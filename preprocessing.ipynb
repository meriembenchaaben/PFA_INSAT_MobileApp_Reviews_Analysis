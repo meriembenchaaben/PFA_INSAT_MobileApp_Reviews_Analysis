{
  "nbformat": 4,
  "nbformat_minor": 0,
  "metadata": {
    "colab": {
      "name": " preprocessing.ipynb",
      "provenance": [],
      "collapsed_sections": [],
      "machine_shape": "hm"
    },
    "kernelspec": {
      "name": "python3",
      "display_name": "Python 3"
    },
    "accelerator": "GPU"
  },
  "cells": [
    {
      "cell_type": "code",
      "metadata": {
        "id": "RvxP6KW_U-AY",
        "colab_type": "code",
        "colab": {}
      },
      "source": [
        "%tensorflow_version 2.x\n",
        "import tensorflow as tf\n",
        "import numpy as np\n",
        "import pandas as pd\n",
        "import re\n",
        "import nltk\n",
        "import spacy\n",
        "import string\n",
        "pd.options.mode.chained_assignment = None\n",
        "from sklearn.preprocessing import LabelBinarizer, LabelEncoder\n",
        "from sklearn.metrics import confusion_matrix"
      ],
      "execution_count": 0,
      "outputs": []
    },
    {
      "cell_type": "code",
      "metadata": {
        "id": "WgZrBEiSeDFn",
        "colab_type": "code",
        "outputId": "f871c895-991d-418d-89df-b2df4b869736",
        "colab": {
          "base_uri": "https://localhost:8080/",
          "height": 34
        }
      },
      "source": [
        "from google.colab import drive\n",
        "drive.mount('/content/gdrive')"
      ],
      "execution_count": 0,
      "outputs": [
        {
          "output_type": "stream",
          "text": [
            "Drive already mounted at /content/gdrive; to attempt to forcibly remount, call drive.mount(\"/content/gdrive\", force_remount=True).\n"
          ],
          "name": "stdout"
        }
      ]
    },
    {
      "cell_type": "code",
      "metadata": {
        "id": "D8e33LFHuRH0",
        "colab_type": "code",
        "colab": {}
      },
      "source": [
        "exclude = set(string.punctuation) \n",
        "import re\n",
        "def remove_punctuation(x): \n",
        "  \"\"\" Helper function to remove punctuation from a string x: any string \"\"\"\n",
        "  try: \n",
        "    x= re.sub(r\"[-+]?[0-9]+(\\.[0-9]+)?\",\"\",x)\n",
        "    y = ''.join(ch for ch in x if ch not in exclude) \n",
        "  except:\n",
        "    pass \n",
        "  return y \n"
      ],
      "execution_count": 0,
      "outputs": []
    },
    {
      "cell_type": "code",
      "metadata": {
        "id": "ub5JLPmr152O",
        "colab_type": "code",
        "colab": {}
      },
      "source": [
        "from nltk.stem.porter import PorterStemmer\n",
        "stemmer = PorterStemmer()\n",
        "def stem_words(text):\n",
        "    return \" \".join([stemmer.stem(word) for word in text.split()])"
      ],
      "execution_count": 0,
      "outputs": []
    },
    {
      "cell_type": "code",
      "metadata": {
        "id": "LKfT3Ppr3T3h",
        "colab_type": "code",
        "outputId": "46578858-534a-4d6e-b667-e6f5a59f9898",
        "colab": {
          "base_uri": "https://localhost:8080/",
          "height": 34
        }
      },
      "source": [
        "pip install -U emoji"
      ],
      "execution_count": 0,
      "outputs": [
        {
          "output_type": "stream",
          "text": [
            "Requirement already up-to-date: emoji in /usr/local/lib/python3.6/dist-packages (0.5.4)\n"
          ],
          "name": "stdout"
        }
      ]
    },
    {
      "cell_type": "code",
      "metadata": {
        "id": "TyKKliwS5e8e",
        "colab_type": "code",
        "colab": {}
      },
      "source": [
        "# Reference : https://gist.github.com/slowkow/7a7f61f495e3dbb7e3d767f97bd7304b\n",
        "def remove_emoji(string):\n",
        "    string=str(string)\n",
        "    emoji_pattern = re.compile(\"[\"\n",
        "                           u\"\\U0001F600-\\U0001F64F\"  # emoticons\n",
        "                           u\"\\U0001F300-\\U0001F5FF\"  # symbols & pictographs\n",
        "                           u\"\\U0001F680-\\U0001F6FF\"  # transport & map symbols\n",
        "                           u\"\\U0001F1E0-\\U0001F1FF\"  # flags (iOS)\n",
        "                           u\"\\U00002702-\\U000027B0\"\n",
        "                           u\"\\U000024C2-\\U0001F251\"\n",
        "                           \"]+\", flags=re.UNICODE)\n",
        "    return emoji_pattern.sub(r'', string)"
      ],
      "execution_count": 0,
      "outputs": []
    },
    {
      "cell_type": "code",
      "metadata": {
        "id": "b7SjbMjS2BkD",
        "colab_type": "code",
        "colab": {}
      },
      "source": [
        "import emoji\n",
        "from nltk.corpus import stopwords"
      ],
      "execution_count": 0,
      "outputs": []
    },
    {
      "cell_type": "code",
      "metadata": {
        "id": "I18CVnFl04Ks",
        "colab_type": "code",
        "colab": {}
      },
      "source": [
        "STOPWORDS = set(['work','working'])\n",
        "def remove_stopwords(text):\n",
        "    \"\"\"custom function to remove the stopwords\"\"\"\n",
        "    return \" \".join([word for word in str(text).split() if word not in STOPWORDS])\n",
        "\n"
      ],
      "execution_count": 0,
      "outputs": []
    },
    {
      "cell_type": "markdown",
      "metadata": {
        "id": "fTPHSjYcx8pG",
        "colab_type": "text"
      },
      "source": [
        "To Do : remove emoticons"
      ]
    },
    {
      "cell_type": "code",
      "metadata": {
        "id": "hyTKhTCbBRSn",
        "colab_type": "code",
        "colab": {}
      },
      "source": [
        "def TopicTransformationForMultiLabels(text):\n",
        "  return eval(text)"
      ],
      "execution_count": 0,
      "outputs": []
    },
    {
      "cell_type": "code",
      "metadata": {
        "id": "Ow4Uej-y3INM",
        "colab_type": "code",
        "colab": {}
      },
      "source": [
        "def remove_touchId(text):\n",
        "    if 'Touch ID' in text :\n",
        "      return None\n",
        "    else:\n",
        "      return text"
      ],
      "execution_count": 0,
      "outputs": []
    },
    {
      "cell_type": "code",
      "metadata": {
        "id": "yrRF37tr3LyZ",
        "colab_type": "code",
        "colab": {}
      },
      "source": [
        "def remove_cat(text,cat): \n",
        "  if cat in text :\n",
        "    text.remove(cat)\n",
        "    return text\n",
        "  return text"
      ],
      "execution_count": 0,
      "outputs": []
    },
    {
      "cell_type": "code",
      "metadata": {
        "id": "Q_ITJ3SW3RxV",
        "colab_type": "code",
        "colab": {}
      },
      "source": [
        "def combine_cat(text,cat1,cat2):\n",
        "  test = False\n",
        "  if cat1 in text :\n",
        "    text.remove(cat1)\n",
        "    test = True\n",
        "  if cat2 in text : \n",
        "    text.remove(cat2)\n",
        "    test = True\n",
        "  if test :\n",
        "    text.append(cat1+' & '+cat2)  \n",
        "  return text "
      ],
      "execution_count": 0,
      "outputs": []
    },
    {
      "cell_type": "code",
      "metadata": {
        "id": "u7D8dQ9h1UCF",
        "colab_type": "code",
        "colab": {}
      },
      "source": [
        "def preprocessing(df):\n",
        "  df=df[df.Language==\"English\"]\n",
        "  df=df[df.Topics!=\"[]\"]\n",
        "  df[\"Subject\"]= df[\"Subject\"]+df[\"Body\"]\n",
        "  df[\"Body\"]= df['Subject'].fillna(df['Body'])\n",
        "  df=df.loc[:,[\"Body\",\"Topics\"]]\n",
        "  df[\"Topics\"]=df[\"Topics\"].apply(lambda text : TopicTransformationForMultiLabels(text))\n",
        "  df[\"Body\"] = df[\"Body\"].str.lower()\n",
        "  df[\"Body\"] = df[\"Body\"].apply(lambda text: remove_emoji(text))\n",
        "  df[\"Body\"] = df[\"Body\"].apply(remove_punctuation)\n",
        "  df[\"Body\"] = df[\"Body\"].apply(lambda text: remove_stopwords(text))\n",
        "  df[\"Body\"] = df[\"Body\"].apply(lambda text: stem_words(text))\n",
        "  df.info()\n",
        "  df = df.dropna() \n",
        "  df[\"Topics\"] = df[\"Topics\"].apply(lambda text : remove_touchId(text))\n",
        "  df = df.dropna() \n",
        "  df.info()\n",
        "  df[\"Topics\"]=df[\"Topics\"].apply(lambda text : remove_cat(text,'Use cases'))\n",
        "  df = df.dropna() \n",
        "  df.info()\n",
        "  df[\"Topics\"]=df[\"Topics\"].apply(lambda text : remove_cat(text,'Bugs'))\n",
        "  df = df.dropna() \n",
        "  df.info()\n",
        "  df[\"Topics\"]=df[\"Topics\"].apply(lambda text : remove_cat(text,'Satisfied users'))\n",
        "  df = df.dropna()\n",
        "  df.info() \n",
        "  df[\"Topics\"]=df[\"Topics\"].apply(lambda text : remove_cat(text,'Dissatisfied users'))\n",
        "  df = df.dropna()\n",
        "  df.info() \n",
        "  df[\"Topics\"]=df[\"Topics\"].apply(lambda text : combine_cat(text,'Connectivity', 'HDMI'))\n",
        "  df = df.dropna()\n",
        "  df.info()\n",
        "  df[\"Topics\"]=df[\"Topics\"].apply(lambda text : combine_cat(text,'Streaming', 'Video'))\n",
        "  df = df.dropna()\n",
        "  df.info()\n",
        "  df[\"Topics\"]=df[\"Topics\"].apply(lambda text : combine_cat(text,'Streaming & Video', 'Audio'))\n",
        "  df = df.dropna()\n",
        "  df.info()\n",
        "  df[\"Topics\"]=df[\"Topics\"].apply(lambda text : combine_cat(text,'Pricing', 'Payment'))\n",
        "  df = df.dropna()\n",
        "  df.info()\n",
        "  return df"
      ],
      "execution_count": 0,
      "outputs": []
    },
    {
      "cell_type": "code",
      "metadata": {
        "id": "Ol0RJA-13wMd",
        "colab_type": "code",
        "colab": {}
      },
      "source": [
        "Aard_dictionary = pd.read_csv('gdrive/My Drive/All reviews/Aard dictionary.csv')\n",
        "Abstract_art = pd.read_csv('gdrive/My Drive/All reviews/Abstract art.csv')\n",
        "AcDisplay = pd.read_csv('gdrive/My Drive/All reviews/AcDisplay.csv')\n",
        "AFwallFirewall= pd.read_csv('gdrive/My Drive/All reviews/AFwallFirewall.csv')\n",
        "Amaze_File_Manager = pd.read_csv('gdrive/My Drive/All reviews/Amaze File Manager.csv')\n",
        "AsciiCam = pd.read_csv('gdrive/My Drive/All reviews/AsciiCam.csv')\n",
        "android_squeezer = pd.read_csv('gdrive/My Drive/All reviews/android squeezer.csv')\n",
        "avare = pd.read_csv('gdrive/My Drive/All reviews/avare.csv')\n",
        "Bart_Runner = pd.read_csv('gdrive/My Drive/All reviews/Bart Runner.csv')\n",
        "Battery_Circle = pd.read_csv('gdrive/My Drive/All reviews/Battery Circle.csv')\n",
        "Battery_Idicator_Pro = pd.read_csv('gdrive/My Drive/All reviews/Battery Idicator Pro.csv')\n",
        "Bodhi_Timer = pd.read_csv('gdrive/My Drive/All reviews/Bodhi Timer.csv')\n",
        "Camera_MX = pd.read_csv('gdrive/My Drive/All reviews/Camera MX.csv')\n",
        "CamTimer = pd.read_csv('gdrive/My Drive/All reviews/CamTimer.csv')\n",
        "Catlog = pd.read_csv('gdrive/My Drive/All reviews/Catlog.csv')\n",
        "clip_stack = pd.read_csv('gdrive/My Drive/All reviews/clip stack.csv')\n",
        "Coin_Flip = pd.read_csv('gdrive/My Drive/All reviews/Coin Flip.csv')\n",
        "color_namer = pd.read_csv('gdrive/My Drive/All reviews/color namer.csv')\n",
        "EasyToken = pd.read_csv('gdrive/My Drive/All reviews/EasyToken.csv')\n",
        "edx = pd.read_csv('gdrive/My Drive/All reviews/edx.csv')\n",
        "FastHub = pd.read_csv('gdrive/My Drive/All reviews/FastHub.csv')\n",
        "FB_reader = pd.read_csv('gdrive/My Drive/All reviews/FB reader.csv')\n",
        "FrostWire = pd.read_csv('gdrive/My Drive/All reviews/FrostWire.csv')\n",
        "Hex = pd.read_csv('gdrive/My Drive/All reviews/Hex.csv')\n",
        "k9_mail = pd.read_csv('gdrive/My Drive/All reviews/k-9 mail.csv')\n",
        "Materialistic = pd.read_csv('gdrive/My Drive/All reviews/Materialistic.csv')\n",
        "MicDroid = pd.read_csv('gdrive/My Drive/All reviews/MicDroid.csv')\n",
        "Micopi = pd.read_csv('gdrive/My Drive/All reviews/Micopi.csv')\n",
        "missed_notification_reminder = pd.read_csv('gdrive/My Drive/All reviews/missed notification reminder.csv')\n",
        "MobileOrg = pd.read_csv('gdrive/My Drive/All reviews/MobileOrg.csv')\n",
        "MTG_familiar = pd.read_csv('gdrive/My Drive/All reviews/MTG familiar.csv')\n",
        "Multipicture_live_wallpaper = pd.read_csv('gdrive/My Drive/All reviews/Multipicture live wallpaper.csv')\n",
        "MyFitnessPal = pd.read_csv('gdrive/My Drive/All reviews/MyFitnessPal.csv')\n",
        "open_soduku = pd.read_csv('gdrive/My Drive/All reviews/open soduku.csv')\n",
        "osmAnd = pd.read_csv('gdrive/My Drive/All reviews/osmAnd.csv')\n",
        "OS_reviews = pd.read_csv('gdrive/My Drive/All reviews/OsReviews.csv')\n",
        "path_finder_open_reference = pd.read_csv('gdrive/My Drive/All reviews/path finder open reference.csv')\n",
        "Persian_Calendar = pd.read_csv('gdrive/My Drive/All reviews/Persian Calendar.csv')\n",
        "Pixel_Dungeon = pd.read_csv('gdrive/My Drive/All reviews/Pixel Dungeon.csv')\n",
        "recurrence = pd.read_csv('gdrive/My Drive/All reviews/recurrence.csv')\n",
        "share_via_http = pd.read_csv('gdrive/My Drive/All reviews/share via http.csv')\n",
        "shortyz_crosswords = pd.read_csv('gdrive/My Drive/All reviews/shortyz crosswords.csv')\n",
        "sls = pd.read_csv('gdrive/My Drive/All reviews/sls.csv')\n",
        "sms_backup_plus = pd.read_csv('gdrive/My Drive/All reviews/sms backup plus.csv')\n",
        "TaskBar = pd.read_csv('gdrive/My Drive/All reviews/TaskBar.csv')\n",
        "Terminal_Emulator_for_android = pd.read_csv('gdrive/My Drive/All reviews/Terminal Emulator for android.csv')\n",
        "Tinfoil_for_facebook = pd.read_csv('gdrive/My Drive/All reviews/Tinfoil for facebook.csv')\n",
        "Trum_Hunter = pd.read_csv('gdrive/My Drive/All reviews/Trum Hunter.csv')\n",
        "Vanilla_Music = pd.read_csv('gdrive/My Drive/All reviews/Vanilla Music.csv')\n",
        "Vector_Pinball = pd.read_csv('gdrive/My Drive/All reviews/Vector Pinball.csv')\n",
        "VX_ConnectBot = pd.read_csv('gdrive/My Drive/All reviews/VX ConnectBot.csv')\n",
        "wifi_fixer = pd.read_csv('gdrive/My Drive/All reviews/wifi fixer.csv')\n"
      ],
      "execution_count": 0,
      "outputs": []
    },
    {
      "cell_type": "code",
      "metadata": {
        "id": "af20FzoD4C9M",
        "colab_type": "code",
        "colab": {}
      },
      "source": [
        "df =pd.concat([Aard_dictionary ,Abstract_art ,AcDisplay,AFwallFirewall,Amaze_File_Manager ,AsciiCam ,android_squeezer ,avare ,\n",
        "               Bart_Runner ,Battery_Circle ,Battery_Idicator_Pro ,Bodhi_Timer ,Camera_MX ,CamTimer,Catlog ,clip_stack,Coin_Flip,\n",
        "               color_namer ,EasyToken,edx,FastHub ,FB_reader ,FrostWire ,Hex ,k9_mail,Materialistic,MicDroid ,Micopi,missed_notification_reminder,\n",
        "               MobileOrg ,MTG_familiar ,Multipicture_live_wallpaper,MyFitnessPal ,open_soduku,osmAnd ,OS_reviews,path_finder_open_reference,Persian_Calendar,\n",
        "               Pixel_Dungeon ,recurrence ,share_via_http ,shortyz_crosswords,sls ,sms_backup_plus,TaskBar,Terminal_Emulator_for_android,\n",
        "               Tinfoil_for_facebook ,Trum_Hunter ,Vanilla_Music ,Vector_Pinball ,VX_ConnectBot,wifi_fixer])"
      ],
      "execution_count": 0,
      "outputs": []
    },
    {
      "cell_type": "code",
      "metadata": {
        "id": "B5SpjrAP_NM2",
        "colab_type": "code",
        "outputId": "24f36b2d-c63b-424d-8bfb-d8f5b01c3362",
        "colab": {
          "base_uri": "https://localhost:8080/",
          "height": 1000
        }
      },
      "source": [
        "df1= preprocessing(df)"
      ],
      "execution_count": 0,
      "outputs": [
        {
          "output_type": "stream",
          "text": [
            "<class 'pandas.core.frame.DataFrame'>\n",
            "Int64Index: 110348 entries, 0 to 8451\n",
            "Data columns (total 2 columns):\n",
            "Body      110348 non-null object\n",
            "Topics    110348 non-null object\n",
            "dtypes: object(2)\n",
            "memory usage: 2.5+ MB\n",
            "<class 'pandas.core.frame.DataFrame'>\n",
            "Int64Index: 110347 entries, 0 to 8451\n",
            "Data columns (total 2 columns):\n",
            "Body      110347 non-null object\n",
            "Topics    110347 non-null object\n",
            "dtypes: object(2)\n",
            "memory usage: 2.5+ MB\n",
            "<class 'pandas.core.frame.DataFrame'>\n",
            "Int64Index: 110347 entries, 0 to 8451\n",
            "Data columns (total 2 columns):\n",
            "Body      110347 non-null object\n",
            "Topics    110347 non-null object\n",
            "dtypes: object(2)\n",
            "memory usage: 2.5+ MB\n",
            "<class 'pandas.core.frame.DataFrame'>\n",
            "Int64Index: 110347 entries, 0 to 8451\n",
            "Data columns (total 2 columns):\n",
            "Body      110347 non-null object\n",
            "Topics    110347 non-null object\n",
            "dtypes: object(2)\n",
            "memory usage: 2.5+ MB\n",
            "<class 'pandas.core.frame.DataFrame'>\n",
            "Int64Index: 110347 entries, 0 to 8451\n",
            "Data columns (total 2 columns):\n",
            "Body      110347 non-null object\n",
            "Topics    110347 non-null object\n",
            "dtypes: object(2)\n",
            "memory usage: 2.5+ MB\n",
            "<class 'pandas.core.frame.DataFrame'>\n",
            "Int64Index: 110347 entries, 0 to 8451\n",
            "Data columns (total 2 columns):\n",
            "Body      110347 non-null object\n",
            "Topics    110347 non-null object\n",
            "dtypes: object(2)\n",
            "memory usage: 2.5+ MB\n",
            "<class 'pandas.core.frame.DataFrame'>\n",
            "Int64Index: 110347 entries, 0 to 8451\n",
            "Data columns (total 2 columns):\n",
            "Body      110347 non-null object\n",
            "Topics    110347 non-null object\n",
            "dtypes: object(2)\n",
            "memory usage: 2.5+ MB\n",
            "<class 'pandas.core.frame.DataFrame'>\n",
            "Int64Index: 110347 entries, 0 to 8451\n",
            "Data columns (total 2 columns):\n",
            "Body      110347 non-null object\n",
            "Topics    110347 non-null object\n",
            "dtypes: object(2)\n",
            "memory usage: 2.5+ MB\n",
            "<class 'pandas.core.frame.DataFrame'>\n",
            "Int64Index: 110347 entries, 0 to 8451\n",
            "Data columns (total 2 columns):\n",
            "Body      110347 non-null object\n",
            "Topics    110347 non-null object\n",
            "dtypes: object(2)\n",
            "memory usage: 2.5+ MB\n",
            "<class 'pandas.core.frame.DataFrame'>\n",
            "Int64Index: 110347 entries, 0 to 8451\n",
            "Data columns (total 2 columns):\n",
            "Body      110347 non-null object\n",
            "Topics    110347 non-null object\n",
            "dtypes: object(2)\n",
            "memory usage: 2.5+ MB\n"
          ],
          "name": "stdout"
        }
      ]
    },
    {
      "cell_type": "code",
      "metadata": {
        "id": "Vd_7AHVw3RFx",
        "colab_type": "code",
        "outputId": "d9291c62-d960-4179-bcbe-cee83d0b405d",
        "colab": {
          "base_uri": "https://localhost:8080/",
          "height": 1000
        }
      },
      "source": [
        "\n",
        "df2= preprocessing(OS_reviews)"
      ],
      "execution_count": 0,
      "outputs": [
        {
          "output_type": "stream",
          "text": [
            "<class 'pandas.core.frame.DataFrame'>\n",
            "Int64Index: 238 entries, 0 to 237\n",
            "Data columns (total 2 columns):\n",
            "Body      238 non-null object\n",
            "Topics    238 non-null object\n",
            "dtypes: object(2)\n",
            "memory usage: 5.6+ KB\n",
            "<class 'pandas.core.frame.DataFrame'>\n",
            "Int64Index: 238 entries, 0 to 237\n",
            "Data columns (total 2 columns):\n",
            "Body      238 non-null object\n",
            "Topics    238 non-null object\n",
            "dtypes: object(2)\n",
            "memory usage: 5.6+ KB\n",
            "<class 'pandas.core.frame.DataFrame'>\n",
            "Int64Index: 238 entries, 0 to 237\n",
            "Data columns (total 2 columns):\n",
            "Body      238 non-null object\n",
            "Topics    238 non-null object\n",
            "dtypes: object(2)\n",
            "memory usage: 5.6+ KB\n",
            "<class 'pandas.core.frame.DataFrame'>\n",
            "Int64Index: 238 entries, 0 to 237\n",
            "Data columns (total 2 columns):\n",
            "Body      238 non-null object\n",
            "Topics    238 non-null object\n",
            "dtypes: object(2)\n",
            "memory usage: 5.6+ KB\n",
            "<class 'pandas.core.frame.DataFrame'>\n",
            "Int64Index: 238 entries, 0 to 237\n",
            "Data columns (total 2 columns):\n",
            "Body      238 non-null object\n",
            "Topics    238 non-null object\n",
            "dtypes: object(2)\n",
            "memory usage: 5.6+ KB\n",
            "<class 'pandas.core.frame.DataFrame'>\n",
            "Int64Index: 238 entries, 0 to 237\n",
            "Data columns (total 2 columns):\n",
            "Body      238 non-null object\n",
            "Topics    238 non-null object\n",
            "dtypes: object(2)\n",
            "memory usage: 5.6+ KB\n",
            "<class 'pandas.core.frame.DataFrame'>\n",
            "Int64Index: 238 entries, 0 to 237\n",
            "Data columns (total 2 columns):\n",
            "Body      238 non-null object\n",
            "Topics    238 non-null object\n",
            "dtypes: object(2)\n",
            "memory usage: 5.6+ KB\n",
            "<class 'pandas.core.frame.DataFrame'>\n",
            "Int64Index: 238 entries, 0 to 237\n",
            "Data columns (total 2 columns):\n",
            "Body      238 non-null object\n",
            "Topics    238 non-null object\n",
            "dtypes: object(2)\n",
            "memory usage: 5.6+ KB\n",
            "<class 'pandas.core.frame.DataFrame'>\n",
            "Int64Index: 238 entries, 0 to 237\n",
            "Data columns (total 2 columns):\n",
            "Body      238 non-null object\n",
            "Topics    238 non-null object\n",
            "dtypes: object(2)\n",
            "memory usage: 5.6+ KB\n",
            "<class 'pandas.core.frame.DataFrame'>\n",
            "Int64Index: 238 entries, 0 to 237\n",
            "Data columns (total 2 columns):\n",
            "Body      238 non-null object\n",
            "Topics    238 non-null object\n",
            "dtypes: object(2)\n",
            "memory usage: 5.6+ KB\n"
          ],
          "name": "stdout"
        }
      ]
    },
    {
      "cell_type": "code",
      "metadata": {
        "id": "W4dp4jt_3ZOL",
        "colab_type": "code",
        "outputId": "67cda98f-eca0-4237-bbd9-58196ecac689",
        "colab": {
          "base_uri": "https://localhost:8080/",
          "height": 204
        }
      },
      "source": [
        "df2.head()"
      ],
      "execution_count": 0,
      "outputs": [
        {
          "output_type": "execute_result",
          "data": {
            "text/html": [
              "<div>\n",
              "<style scoped>\n",
              "    .dataframe tbody tr th:only-of-type {\n",
              "        vertical-align: middle;\n",
              "    }\n",
              "\n",
              "    .dataframe tbody tr th {\n",
              "        vertical-align: top;\n",
              "    }\n",
              "\n",
              "    .dataframe thead th {\n",
              "        text-align: right;\n",
              "    }\n",
              "</style>\n",
              "<table border=\"1\" class=\"dataframe\">\n",
              "  <thead>\n",
              "    <tr style=\"text-align: right;\">\n",
              "      <th></th>\n",
              "      <th>Body</th>\n",
              "      <th>Topics</th>\n",
              "    </tr>\n",
              "  </thead>\n",
              "  <tbody>\n",
              "    <tr>\n",
              "      <th>0</th>\n",
              "      <td>android jelli bean</td>\n",
              "      <td>[Operating Systems]</td>\n",
              "    </tr>\n",
              "    <tr>\n",
              "      <th>1</th>\n",
              "      <td>android kitkat</td>\n",
              "      <td>[Operating Systems]</td>\n",
              "    </tr>\n",
              "    <tr>\n",
              "      <th>2</th>\n",
              "      <td>android x lollipop</td>\n",
              "      <td>[Operating Systems]</td>\n",
              "    </tr>\n",
              "    <tr>\n",
              "      <th>3</th>\n",
              "      <td>android x marshmallow</td>\n",
              "      <td>[Operating Systems]</td>\n",
              "    </tr>\n",
              "    <tr>\n",
              "      <th>4</th>\n",
              "      <td>android nougat</td>\n",
              "      <td>[Operating Systems]</td>\n",
              "    </tr>\n",
              "  </tbody>\n",
              "</table>\n",
              "</div>"
            ],
            "text/plain": [
              "                    Body               Topics\n",
              "0     android jelli bean  [Operating Systems]\n",
              "1         android kitkat  [Operating Systems]\n",
              "2     android x lollipop  [Operating Systems]\n",
              "3  android x marshmallow  [Operating Systems]\n",
              "4         android nougat  [Operating Systems]"
            ]
          },
          "metadata": {
            "tags": []
          },
          "execution_count": 132
        }
      ]
    },
    {
      "cell_type": "code",
      "metadata": {
        "id": "zrQTgiJT3ASw",
        "colab_type": "code",
        "outputId": "2a29536a-3ec6-4ed6-e25b-96f91491cd0e",
        "colab": {
          "base_uri": "https://localhost:8080/",
          "height": 136
        }
      },
      "source": [
        "df1.info()"
      ],
      "execution_count": 0,
      "outputs": [
        {
          "output_type": "stream",
          "text": [
            "<class 'pandas.core.frame.DataFrame'>\n",
            "Int64Index: 110347 entries, 0 to 8451\n",
            "Data columns (total 2 columns):\n",
            "Body      110347 non-null object\n",
            "Topics    110347 non-null object\n",
            "dtypes: object(2)\n",
            "memory usage: 2.5+ MB\n"
          ],
          "name": "stdout"
        }
      ]
    },
    {
      "cell_type": "code",
      "metadata": {
        "id": "nO5Od0Gk_k7A",
        "colab_type": "code",
        "colab": {}
      },
      "source": [
        "df1.to_csv(r'gdrive/My Drive/All reviews/DatasetAfterPreProcessingWithStopWordsNoBugsFinal.csv', index = False)"
      ],
      "execution_count": 0,
      "outputs": []
    },
    {
      "cell_type": "code",
      "metadata": {
        "id": "dgJyEdia46vR",
        "colab_type": "code",
        "colab": {}
      },
      "source": [
        ""
      ],
      "execution_count": 0,
      "outputs": []
    }
  ]
}