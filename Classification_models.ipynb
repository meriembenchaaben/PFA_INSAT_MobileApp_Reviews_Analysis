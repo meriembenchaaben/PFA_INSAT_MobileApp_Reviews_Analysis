{
  "nbformat": 4,
  "nbformat_minor": 0,
  "metadata": {
    "colab": {
      "name": "Classification_models_deep_learning.ipynb",
      "provenance": [],
      "collapsed_sections": [],
      "machine_shape": "hm"
    },
    "kernelspec": {
      "name": "python3",
      "display_name": "Python 3"
    },
    "accelerator": "GPU"
  },
  "cells": [
    {
      "cell_type": "code",
      "metadata": {
        "id": "RvxP6KW_U-AY",
        "colab_type": "code",
        "colab": {}
      },
      "source": [
        "%tensorflow_version 2.x\n",
        "import tensorflow as tf\n",
        "import numpy as np\n",
        "import pandas as pd\n",
        "import re\n",
        "import nltk\n",
        "import spacy\n",
        "import string\n",
        "pd.options.mode.chained_assignment = None\n",
        "from sklearn.preprocessing import LabelBinarizer, LabelEncoder\n",
        "from sklearn.metrics import confusion_matrix ,precision_recall_fscore_support\n",
        "import seaborn as sns\n",
        "import matplotlib.pyplot as plt\n",
        "from sklearn.model_selection import train_test_split\n",
        "from imblearn.over_sampling import RandomOverSampler,SMOTE"
      ],
      "execution_count": 0,
      "outputs": []
    },
    {
      "cell_type": "code",
      "metadata": {
        "id": "WgZrBEiSeDFn",
        "colab_type": "code",
        "outputId": "76589469-76cd-439b-841e-20b6f958ff6f",
        "colab": {
          "base_uri": "https://localhost:8080/",
          "height": 34
        }
      },
      "source": [
        "from google.colab import drive\n",
        "drive.mount('/content/gdrive')"
      ],
      "execution_count": 85,
      "outputs": [
        {
          "output_type": "stream",
          "text": [
            "Drive already mounted at /content/gdrive; to attempt to forcibly remount, call drive.mount(\"/content/gdrive\", force_remount=True).\n"
          ],
          "name": "stdout"
        }
      ]
    },
    {
      "cell_type": "code",
      "metadata": {
        "id": "nO5Od0Gk_k7A",
        "colab_type": "code",
        "colab": {}
      },
      "source": [
        "#df.to_csv(r'gdrive/My Drive/All reviews/LkolNthaf.csv', index = False)"
      ],
      "execution_count": 0,
      "outputs": []
    },
    {
      "cell_type": "code",
      "metadata": {
        "id": "s0wMnPC6_76F",
        "colab_type": "code",
        "outputId": "a104ba91-7115-49c6-9e99-1256ba18c03d",
        "colab": {
          "base_uri": "https://localhost:8080/",
          "height": 313
        }
      },
      "source": [
        "df = pd.read_csv('gdrive/My Drive/All reviews/DatasetAfterPreProcessingWithStopWordsNoBugsFinal.csv')\n",
        "df.info()\n",
        "df.head()"
      ],
      "execution_count": 87,
      "outputs": [
        {
          "output_type": "stream",
          "text": [
            "<class 'pandas.core.frame.DataFrame'>\n",
            "RangeIndex: 110347 entries, 0 to 110346\n",
            "Data columns (total 2 columns):\n",
            "Body      110004 non-null object\n",
            "Topics    110347 non-null object\n",
            "dtypes: object(2)\n",
            "memory usage: 1.7+ MB\n"
          ],
          "name": "stdout"
        },
        {
          "output_type": "execute_result",
          "data": {
            "text/html": [
              "<div>\n",
              "<style scoped>\n",
              "    .dataframe tbody tr th:only-of-type {\n",
              "        vertical-align: middle;\n",
              "    }\n",
              "\n",
              "    .dataframe tbody tr th {\n",
              "        vertical-align: top;\n",
              "    }\n",
              "\n",
              "    .dataframe thead th {\n",
              "        text-align: right;\n",
              "    }\n",
              "</style>\n",
              "<table border=\"1\" class=\"dataframe\">\n",
              "  <thead>\n",
              "    <tr style=\"text-align: right;\">\n",
              "      <th></th>\n",
              "      <th>Body</th>\n",
              "      <th>Topics</th>\n",
              "    </tr>\n",
              "  </thead>\n",
              "  <tbody>\n",
              "    <tr>\n",
              "      <th>0</th>\n",
              "      <td>but not in lenovo k note</td>\n",
              "      <td>[]</td>\n",
              "    </tr>\n",
              "    <tr>\n",
              "      <th>1</th>\n",
              "      <td>get the new aard appit also in the play store ...</td>\n",
              "      <td>[]</td>\n",
              "    </tr>\n",
              "    <tr>\n",
              "      <th>2</th>\n",
              "      <td>greatth best app for read offlin wikipedia aar...</td>\n",
              "      <td>['Connectivity &amp; HDMI']</td>\n",
              "    </tr>\n",
              "    <tr>\n",
              "      <th>3</th>\n",
              "      <td>dictionnari unavailablela plupart de lien perm...</td>\n",
              "      <td>[]</td>\n",
              "    </tr>\n",
              "    <tr>\n",
              "      <th>4</th>\n",
              "      <td>usefulthi is a good replac for wikidroyd which...</td>\n",
              "      <td>['Design &amp; UX', 'Feature Requests', 'Internati...</td>\n",
              "    </tr>\n",
              "  </tbody>\n",
              "</table>\n",
              "</div>"
            ],
            "text/plain": [
              "                                                Body                                             Topics\n",
              "0                           but not in lenovo k note                                                 []\n",
              "1  get the new aard appit also in the play store ...                                                 []\n",
              "2  greatth best app for read offlin wikipedia aar...                            ['Connectivity & HDMI']\n",
              "3  dictionnari unavailablela plupart de lien perm...                                                 []\n",
              "4  usefulthi is a good replac for wikidroyd which...  ['Design & UX', 'Feature Requests', 'Internati..."
            ]
          },
          "metadata": {
            "tags": []
          },
          "execution_count": 87
        }
      ]
    },
    {
      "cell_type": "code",
      "metadata": {
        "id": "2zo1Gde061Y0",
        "colab_type": "code",
        "colab": {}
      },
      "source": [
        "def remove_empty(text):\n",
        "  if text == \"[]\" :\n",
        "     return None\n",
        "  return eval(text)"
      ],
      "execution_count": 0,
      "outputs": []
    },
    {
      "cell_type": "code",
      "metadata": {
        "id": "Nc479pXZ8E9s",
        "colab_type": "code",
        "colab": {}
      },
      "source": [
        " df[\"Topics\"] = df[\"Topics\"].apply(lambda text : remove_empty(text))"
      ],
      "execution_count": 0,
      "outputs": []
    },
    {
      "cell_type": "code",
      "metadata": {
        "id": "xTeIqrm1AlnX",
        "colab_type": "code",
        "colab": {}
      },
      "source": [
        "\n",
        "df = df.dropna()"
      ],
      "execution_count": 0,
      "outputs": []
    },
    {
      "cell_type": "code",
      "metadata": {
        "id": "vfVrDcaMxyhE",
        "colab_type": "code",
        "colab": {}
      },
      "source": [
        "df1 = df.dropna()"
      ],
      "execution_count": 0,
      "outputs": []
    },
    {
      "cell_type": "code",
      "metadata": {
        "id": "yMmG3IDjVS3V",
        "colab_type": "code",
        "outputId": "03e8f4ce-e88d-4197-ff50-f23e32169177",
        "colab": {
          "base_uri": "https://localhost:8080/",
          "height": 134
        }
      },
      "source": [
        "df1.info()"
      ],
      "execution_count": 92,
      "outputs": [
        {
          "output_type": "stream",
          "text": [
            "<class 'pandas.core.frame.DataFrame'>\n",
            "Int64Index: 70799 entries, 2 to 110346\n",
            "Data columns (total 2 columns):\n",
            "Body      70799 non-null object\n",
            "Topics    70799 non-null object\n",
            "dtypes: object(2)\n",
            "memory usage: 1.6+ MB\n"
          ],
          "name": "stdout"
        }
      ]
    },
    {
      "cell_type": "code",
      "metadata": {
        "id": "uRukN8XRhatZ",
        "colab_type": "code",
        "colab": {}
      },
      "source": [
        "def filter3(cat,text):\n",
        "    if [cat] ==  text :\n",
        "      return True\n",
        "    else:\n",
        "      return False"
      ],
      "execution_count": 0,
      "outputs": []
    },
    {
      "cell_type": "markdown",
      "metadata": {
        "id": "31WqQlFwa9am",
        "colab_type": "text"
      },
      "source": [
        "Extract Topics from Data set "
      ]
    },
    {
      "cell_type": "code",
      "metadata": {
        "id": "Ry14pF4t-eJt",
        "colab_type": "code",
        "colab": {}
      },
      "source": [
        "from sklearn.feature_extraction.text import CountVectorizer\n",
        "from sklearn.feature_extraction.text import TfidfTransformer\n",
        "from sklearn.preprocessing import MultiLabelBinarizer\n",
        "\n",
        "multilabel_binarizer = MultiLabelBinarizer()\n",
        "multilabel_binarizer.fit(df1.Topics)\n",
        "Y = multilabel_binarizer.transform(df1.Topics)\n",
        "#for x, y,z in zip(*[multilabel_binarizer.classes_,Y.sum(axis=0),occ]):\n",
        "#    print(x,y,z,z*100/y)\n"
      ],
      "execution_count": 0,
      "outputs": []
    },
    {
      "cell_type": "code",
      "metadata": {
        "id": "nn_QXiDC8Ern",
        "colab_type": "code",
        "colab": {}
      },
      "source": [
        "occ = []\n",
        "for cat in multilabel_binarizer.classes_ :\n",
        "  occ.append(len(df1[df1[\"Topics\"].apply(lambda text : filter3(cat,text))].values))\n"
      ],
      "execution_count": 0,
      "outputs": []
    },
    {
      "cell_type": "code",
      "metadata": {
        "id": "Mor6_ud_s2QH",
        "colab_type": "code",
        "outputId": "dd04e3d2-7db3-40bd-e240-9a4a9f2a0dbb",
        "colab": {
          "base_uri": "https://localhost:8080/",
          "height": 34
        }
      },
      "source": [
        "print(len(occ))"
      ],
      "execution_count": 96,
      "outputs": [
        {
          "output_type": "stream",
          "text": [
            "24\n"
          ],
          "name": "stdout"
        }
      ]
    },
    {
      "cell_type": "code",
      "metadata": {
        "id": "0jmIDER09SPp",
        "colab_type": "code",
        "outputId": "57e25412-a4df-48dc-9cf9-d39a60a6406c",
        "colab": {
          "base_uri": "https://localhost:8080/",
          "height": 134
        }
      },
      "source": [
        "df1.info()"
      ],
      "execution_count": 97,
      "outputs": [
        {
          "output_type": "stream",
          "text": [
            "<class 'pandas.core.frame.DataFrame'>\n",
            "Int64Index: 70799 entries, 2 to 110346\n",
            "Data columns (total 2 columns):\n",
            "Body      70799 non-null object\n",
            "Topics    70799 non-null object\n",
            "dtypes: object(2)\n",
            "memory usage: 1.6+ MB\n"
          ],
          "name": "stdout"
        }
      ]
    },
    {
      "cell_type": "code",
      "metadata": {
        "id": "gyLaoDeEi4Pb",
        "colab_type": "code",
        "outputId": "cfbc1792-ea48-41fe-986b-355b50be1a71",
        "colab": {
          "base_uri": "https://localhost:8080/",
          "height": 758
        }
      },
      "source": [
        "percentage = []\n",
        "for element, y in zip(*[Y.sum(axis=0),occ]): \n",
        "  percentage.append(str(round(y*100/element,2))+\" %\")\n",
        "data = {'Name':  multilabel_binarizer.classes_,\n",
        "        'occurences': Y.sum(axis=0),\n",
        "        'alone occurences': occ ,\n",
        "        'ratio of alone occurences' :percentage\n",
        "        }\n",
        "df5 =pd.DataFrame (data, columns = ['Name','occurences','alone occurences','ratio of alone occurences'])\n",
        "df5"
      ],
      "execution_count": 98,
      "outputs": [
        {
          "output_type": "execute_result",
          "data": {
            "text/html": [
              "<div>\n",
              "<style scoped>\n",
              "    .dataframe tbody tr th:only-of-type {\n",
              "        vertical-align: middle;\n",
              "    }\n",
              "\n",
              "    .dataframe tbody tr th {\n",
              "        vertical-align: top;\n",
              "    }\n",
              "\n",
              "    .dataframe thead th {\n",
              "        text-align: right;\n",
              "    }\n",
              "</style>\n",
              "<table border=\"1\" class=\"dataframe\">\n",
              "  <thead>\n",
              "    <tr style=\"text-align: right;\">\n",
              "      <th></th>\n",
              "      <th>Name</th>\n",
              "      <th>occurences</th>\n",
              "      <th>alone occurences</th>\n",
              "      <th>ratio of alone occurences</th>\n",
              "    </tr>\n",
              "  </thead>\n",
              "  <tbody>\n",
              "    <tr>\n",
              "      <th>0</th>\n",
              "      <td>Advertising</td>\n",
              "      <td>3035</td>\n",
              "      <td>863</td>\n",
              "      <td>28.43 %</td>\n",
              "    </tr>\n",
              "    <tr>\n",
              "      <th>1</th>\n",
              "      <td>Battery</td>\n",
              "      <td>647</td>\n",
              "      <td>221</td>\n",
              "      <td>34.16 %</td>\n",
              "    </tr>\n",
              "    <tr>\n",
              "      <th>2</th>\n",
              "      <td>Camera &amp; Photos</td>\n",
              "      <td>3219</td>\n",
              "      <td>1471</td>\n",
              "      <td>45.7 %</td>\n",
              "    </tr>\n",
              "    <tr>\n",
              "      <th>3</th>\n",
              "      <td>Complexity</td>\n",
              "      <td>5907</td>\n",
              "      <td>746</td>\n",
              "      <td>12.63 %</td>\n",
              "    </tr>\n",
              "    <tr>\n",
              "      <th>4</th>\n",
              "      <td>Connectivity &amp; HDMI</td>\n",
              "      <td>6662</td>\n",
              "      <td>2676</td>\n",
              "      <td>40.17 %</td>\n",
              "    </tr>\n",
              "    <tr>\n",
              "      <th>5</th>\n",
              "      <td>Customer Support</td>\n",
              "      <td>4236</td>\n",
              "      <td>1579</td>\n",
              "      <td>37.28 %</td>\n",
              "    </tr>\n",
              "    <tr>\n",
              "      <th>6</th>\n",
              "      <td>Design &amp; UX</td>\n",
              "      <td>23199</td>\n",
              "      <td>8864</td>\n",
              "      <td>38.21 %</td>\n",
              "    </tr>\n",
              "    <tr>\n",
              "      <th>7</th>\n",
              "      <td>Devices</td>\n",
              "      <td>3545</td>\n",
              "      <td>1160</td>\n",
              "      <td>32.72 %</td>\n",
              "    </tr>\n",
              "    <tr>\n",
              "      <th>8</th>\n",
              "      <td>Feature Requests</td>\n",
              "      <td>9120</td>\n",
              "      <td>3003</td>\n",
              "      <td>32.93 %</td>\n",
              "    </tr>\n",
              "    <tr>\n",
              "      <th>9</th>\n",
              "      <td>Frequency</td>\n",
              "      <td>4334</td>\n",
              "      <td>1432</td>\n",
              "      <td>33.04 %</td>\n",
              "    </tr>\n",
              "    <tr>\n",
              "      <th>10</th>\n",
              "      <td>Gaming</td>\n",
              "      <td>3466</td>\n",
              "      <td>1652</td>\n",
              "      <td>47.66 %</td>\n",
              "    </tr>\n",
              "    <tr>\n",
              "      <th>11</th>\n",
              "      <td>Import Export</td>\n",
              "      <td>801</td>\n",
              "      <td>221</td>\n",
              "      <td>27.59 %</td>\n",
              "    </tr>\n",
              "    <tr>\n",
              "      <th>12</th>\n",
              "      <td>Internationalization</td>\n",
              "      <td>609</td>\n",
              "      <td>276</td>\n",
              "      <td>45.32 %</td>\n",
              "    </tr>\n",
              "    <tr>\n",
              "      <th>13</th>\n",
              "      <td>Location Services</td>\n",
              "      <td>1028</td>\n",
              "      <td>266</td>\n",
              "      <td>25.88 %</td>\n",
              "    </tr>\n",
              "    <tr>\n",
              "      <th>14</th>\n",
              "      <td>Notifications &amp; Alerts</td>\n",
              "      <td>7369</td>\n",
              "      <td>2408</td>\n",
              "      <td>32.68 %</td>\n",
              "    </tr>\n",
              "    <tr>\n",
              "      <th>15</th>\n",
              "      <td>Operating System</td>\n",
              "      <td>505</td>\n",
              "      <td>309</td>\n",
              "      <td>61.19 %</td>\n",
              "    </tr>\n",
              "    <tr>\n",
              "      <th>16</th>\n",
              "      <td>Performance</td>\n",
              "      <td>9927</td>\n",
              "      <td>3615</td>\n",
              "      <td>36.42 %</td>\n",
              "    </tr>\n",
              "    <tr>\n",
              "      <th>17</th>\n",
              "      <td>Pricing &amp; Payment</td>\n",
              "      <td>7214</td>\n",
              "      <td>2465</td>\n",
              "      <td>34.17 %</td>\n",
              "    </tr>\n",
              "    <tr>\n",
              "      <th>18</th>\n",
              "      <td>Privacy</td>\n",
              "      <td>1189</td>\n",
              "      <td>285</td>\n",
              "      <td>23.97 %</td>\n",
              "    </tr>\n",
              "    <tr>\n",
              "      <th>19</th>\n",
              "      <td>Security &amp; Accounts</td>\n",
              "      <td>6264</td>\n",
              "      <td>1976</td>\n",
              "      <td>31.55 %</td>\n",
              "    </tr>\n",
              "    <tr>\n",
              "      <th>20</th>\n",
              "      <td>Sign Up &amp; Login</td>\n",
              "      <td>2573</td>\n",
              "      <td>763</td>\n",
              "      <td>29.65 %</td>\n",
              "    </tr>\n",
              "    <tr>\n",
              "      <th>21</th>\n",
              "      <td>Social &amp; Collaboration</td>\n",
              "      <td>94</td>\n",
              "      <td>27</td>\n",
              "      <td>28.72 %</td>\n",
              "    </tr>\n",
              "    <tr>\n",
              "      <th>22</th>\n",
              "      <td>Streaming &amp; Video &amp; Audio</td>\n",
              "      <td>4672</td>\n",
              "      <td>2161</td>\n",
              "      <td>46.25 %</td>\n",
              "    </tr>\n",
              "    <tr>\n",
              "      <th>23</th>\n",
              "      <td>Update</td>\n",
              "      <td>6580</td>\n",
              "      <td>2204</td>\n",
              "      <td>33.5 %</td>\n",
              "    </tr>\n",
              "  </tbody>\n",
              "</table>\n",
              "</div>"
            ],
            "text/plain": [
              "                         Name  ...  ratio of alone occurences\n",
              "0                 Advertising  ...                    28.43 %\n",
              "1                     Battery  ...                    34.16 %\n",
              "2             Camera & Photos  ...                     45.7 %\n",
              "3                  Complexity  ...                    12.63 %\n",
              "4         Connectivity & HDMI  ...                    40.17 %\n",
              "5            Customer Support  ...                    37.28 %\n",
              "6                 Design & UX  ...                    38.21 %\n",
              "7                     Devices  ...                    32.72 %\n",
              "8            Feature Requests  ...                    32.93 %\n",
              "9                   Frequency  ...                    33.04 %\n",
              "10                     Gaming  ...                    47.66 %\n",
              "11              Import Export  ...                    27.59 %\n",
              "12       Internationalization  ...                    45.32 %\n",
              "13          Location Services  ...                    25.88 %\n",
              "14     Notifications & Alerts  ...                    32.68 %\n",
              "15           Operating System  ...                    61.19 %\n",
              "16                Performance  ...                    36.42 %\n",
              "17          Pricing & Payment  ...                    34.17 %\n",
              "18                    Privacy  ...                    23.97 %\n",
              "19        Security & Accounts  ...                    31.55 %\n",
              "20            Sign Up & Login  ...                    29.65 %\n",
              "21     Social & Collaboration  ...                    28.72 %\n",
              "22  Streaming & Video & Audio  ...                    46.25 %\n",
              "23                     Update  ...                     33.5 %\n",
              "\n",
              "[24 rows x 4 columns]"
            ]
          },
          "metadata": {
            "tags": []
          },
          "execution_count": 98
        }
      ]
    },
    {
      "cell_type": "markdown",
      "metadata": {
        "id": "GOYHNjINbDpX",
        "colab_type": "text"
      },
      "source": [
        "Feature Extraction using TF-IDF"
      ]
    },
    {
      "cell_type": "code",
      "metadata": {
        "id": "fVeygsWeYMp5",
        "colab_type": "code",
        "colab": {}
      },
      "source": [
        "num_classes =Y[0].size"
      ],
      "execution_count": 0,
      "outputs": []
    },
    {
      "cell_type": "code",
      "metadata": {
        "id": "9aBpWe7cGbTG",
        "colab_type": "code",
        "colab": {}
      },
      "source": [
        "import pickle \n",
        "count_vect = CountVectorizer()\n",
        "X_counts = count_vect.fit_transform(df1.Body)\n",
        "pickle.dump(count_vect.vocabulary_,open(\"gdrive/My Drive/All reviews/feature.pkl\",\"wb\"))\n",
        "tfidf_transformer = TfidfTransformer()\n",
        "X_tfidf = tfidf_transformer.fit_transform(X_counts)\n",
        "maxlen=len(count_vect.vocabulary_)"
      ],
      "execution_count": 0,
      "outputs": []
    },
    {
      "cell_type": "code",
      "metadata": {
        "id": "WLHs59-EGvzi",
        "colab_type": "code",
        "colab": {}
      },
      "source": [
        "x_train, x_test_tfidf,y_train, y_test_tfidf = train_test_split(X_tfidf, Y, test_size=0.2, random_state=9000)"
      ],
      "execution_count": 0,
      "outputs": []
    },
    {
      "cell_type": "code",
      "metadata": {
        "id": "wBjhMv2l0nwA",
        "colab_type": "code",
        "outputId": "3dd9da2a-72e2-4799-d46f-e1c33cfbb8df",
        "colab": {
          "base_uri": "https://localhost:8080/",
          "height": 34
        }
      },
      "source": [
        "'''ros = RandomOverSampler(random_state=9000)\n",
        "x_train, y_train = ros.fit_sample(x_train_tfidf, y_train_tfidf)'''"
      ],
      "execution_count": 102,
      "outputs": [
        {
          "output_type": "execute_result",
          "data": {
            "text/plain": [
              "'ros = RandomOverSampler(random_state=9000)\\nx_train, y_train = ros.fit_sample(x_train_tfidf, y_train_tfidf)'"
            ]
          },
          "metadata": {
            "tags": []
          },
          "execution_count": 102
        }
      ]
    },
    {
      "cell_type": "markdown",
      "metadata": {
        "id": "4Qexcjw3RcPE",
        "colab_type": "text"
      },
      "source": [
        "Extracting dev samples"
      ]
    },
    {
      "cell_type": "code",
      "metadata": {
        "id": "3ZgvKF8f4pxg",
        "colab_type": "code",
        "colab": {}
      },
      "source": [
        "x_test, x_dev,y_test, y_dev = train_test_split(x_test_tfidf, y_test_tfidf, test_size=0.5, random_state=9000)"
      ],
      "execution_count": 0,
      "outputs": []
    },
    {
      "cell_type": "markdown",
      "metadata": {
        "id": "Pvz5kleadMqI",
        "colab_type": "text"
      },
      "source": [
        "All The models(ML) + Accuracy using Haming score"
      ]
    },
    {
      "cell_type": "code",
      "metadata": {
        "id": "sdemlTjqHX8U",
        "colab_type": "code",
        "outputId": "e845b750-9683-4f9d-8fff-5c835273c3cc",
        "colab": {
          "base_uri": "https://localhost:8080/",
          "height": 1000
        }
      },
      "source": [
        "from sklearn.naive_bayes import MultinomialNB\n",
        "from sklearn.linear_model import SGDClassifier\n",
        "from sklearn.linear_model import LogisticRegression\n",
        "from sklearn.multiclass import OneVsRestClassifier\n",
        "from sklearn.metrics import hamming_loss, precision_recall_fscore_support, classification_report\n",
        "\n",
        "def hamming_score(y_true, y_pred, normalize=True, sample_weight=None):\n",
        "    acc_list = []\n",
        "    for i in range(y_true.shape[0]):\n",
        "        set_true = set( np.where(y_true[i])[0] )\n",
        "        set_pred = set( np.where(y_pred[i])[0] )\n",
        "        tmp_a = None\n",
        "        if len(set_true) == 0 and len(set_pred) == 0:\n",
        "            tmp_a = 1\n",
        "        else:\n",
        "            tmp_a = len(set_true.intersection(set_pred))/float(len(set_true.union(set_pred)) )\n",
        "        acc_list.append(tmp_a)\n",
        "    return np.mean(acc_list)\n",
        "\n",
        "def print_score(y_pred, clf):\n",
        "    print(\"Clf: \", clf.__class__.__name__)\n",
        "    print(\"Hamming loss: {}\".format(hamming_loss(y_pred, y_test_tfidf)))\n",
        "    print(\"Hamming score: {}\".format(hamming_score(y_pred, y_test_tfidf)))\n",
        "    print(\"---\")    \n",
        "nb_clf = MultinomialNB()\n",
        "sgd = SGDClassifier(loss='hinge', penalty='l2', alpha=1e-3, random_state=42, max_iter=6, tol=None)\n",
        "lr = LogisticRegression()\n",
        "mn = MultinomialNB()\n",
        "\n",
        "for classifier in [nb_clf, sgd, lr, mn]:\n",
        "    clf = OneVsRestClassifier(classifier)\n",
        "\n",
        "    clf.fit(x_train, y_train)\n",
        "    print(clf.score(x_test_tfidf,y_test_tfidf))\n",
        "    y_pred = clf.predict(x_test_tfidf)\n",
        "  \n",
        "    print_score(y_pred, classifier)\n",
        "    print(classification_report( y_test_tfidf ,y_pred))\n",
        "\n",
        "\n"
      ],
      "execution_count": 104,
      "outputs": [
        {
          "output_type": "stream",
          "text": [
            "0.09703389830508474\n",
            "Clf:  MultinomialNB\n",
            "Hamming loss: 0.06198799435028249\n",
            "Hamming score: 0.12882863617698587\n",
            "---\n"
          ],
          "name": "stdout"
        },
        {
          "output_type": "stream",
          "text": [
            "/usr/local/lib/python3.6/dist-packages/sklearn/metrics/_classification.py:1272: UndefinedMetricWarning: Precision and F-score are ill-defined and being set to 0.0 in labels with no predicted samples. Use `zero_division` parameter to control this behavior.\n",
            "  _warn_prf(average, modifier, msg_start, len(result))\n",
            "/usr/local/lib/python3.6/dist-packages/sklearn/metrics/_classification.py:1272: UndefinedMetricWarning: Precision and F-score are ill-defined and being set to 0.0 in samples with no predicted labels. Use `zero_division` parameter to control this behavior.\n",
            "  _warn_prf(average, modifier, msg_start, len(result))\n"
          ],
          "name": "stderr"
        },
        {
          "output_type": "stream",
          "text": [
            "              precision    recall  f1-score   support\n",
            "\n",
            "           0       0.00      0.00      0.00       630\n",
            "           1       0.00      0.00      0.00       124\n",
            "           2       0.92      0.11      0.19       675\n",
            "           3       0.53      0.02      0.03      1162\n",
            "           4       0.88      0.06      0.11      1348\n",
            "           5       0.33      0.01      0.01       792\n",
            "           6       0.94      0.39      0.55      4659\n",
            "           7       0.62      0.02      0.04       724\n",
            "           8       0.38      0.00      0.01      1829\n",
            "           9       0.12      0.00      0.00       870\n",
            "          10       0.11      0.00      0.00       660\n",
            "          11       0.00      0.00      0.00       151\n",
            "          12       0.56      0.04      0.08       116\n",
            "          13       0.00      0.00      0.00       200\n",
            "          14       0.92      0.07      0.13      1497\n",
            "          15       0.00      0.00      0.00       112\n",
            "          16       0.90      0.05      0.10      1931\n",
            "          17       0.95      0.09      0.17      1409\n",
            "          18       0.00      0.00      0.00       244\n",
            "          19       0.78      0.03      0.05      1273\n",
            "          20       0.44      0.01      0.02       523\n",
            "          21       0.00      0.00      0.00        20\n",
            "          22       0.80      0.04      0.08       946\n",
            "          23       0.45      0.01      0.01      1311\n",
            "\n",
            "   micro avg       0.89      0.10      0.19     23206\n",
            "   macro avg       0.44      0.04      0.07     23206\n",
            "weighted avg       0.67      0.10      0.16     23206\n",
            " samples avg       0.17      0.13      0.14     23206\n",
            "\n",
            "0.23531073446327683\n",
            "Clf:  SGDClassifier\n",
            "Hamming loss: 0.05017066854990584\n",
            "Hamming score: 0.3138471885929513\n",
            "---\n",
            "              precision    recall  f1-score   support\n",
            "\n",
            "           0       0.93      0.22      0.35       630\n",
            "           1       0.00      0.00      0.00       124\n",
            "           2       1.00      0.40      0.57       675\n",
            "           3       0.78      0.28      0.41      1162\n",
            "           4       0.92      0.42      0.58      1348\n",
            "           5       0.76      0.15      0.25       792\n",
            "           6       0.95      0.44      0.60      4659\n",
            "           7       0.87      0.23      0.37       724\n",
            "           8       0.82      0.03      0.05      1829\n",
            "           9       1.00      0.00      0.01       870\n",
            "          10       0.87      0.03      0.06       660\n",
            "          11       0.00      0.00      0.00       151\n",
            "          12       0.00      0.00      0.00       116\n",
            "          13       1.00      0.07      0.13       200\n",
            "          14       0.99      0.65      0.78      1497\n",
            "          15       0.00      0.00      0.00       112\n",
            "          16       0.96      0.16      0.28      1931\n",
            "          17       0.97      0.22      0.37      1409\n",
            "          18       0.00      0.00      0.00       244\n",
            "          19       0.91      0.37      0.53      1273\n",
            "          20       0.97      0.23      0.37       523\n",
            "          21       0.00      0.00      0.00        20\n",
            "          22       0.99      0.48      0.65       946\n",
            "          23       0.92      0.16      0.28      1311\n",
            "\n",
            "   micro avg       0.94      0.28      0.44     23206\n",
            "   macro avg       0.69      0.19      0.28     23206\n",
            "weighted avg       0.89      0.28      0.40     23206\n",
            " samples avg       0.40      0.32      0.34     23206\n",
            "\n"
          ],
          "name": "stdout"
        },
        {
          "output_type": "stream",
          "text": [
            "/usr/local/lib/python3.6/dist-packages/sklearn/metrics/_classification.py:1272: UndefinedMetricWarning: Precision and F-score are ill-defined and being set to 0.0 in labels with no predicted samples. Use `zero_division` parameter to control this behavior.\n",
            "  _warn_prf(average, modifier, msg_start, len(result))\n",
            "/usr/local/lib/python3.6/dist-packages/sklearn/metrics/_classification.py:1272: UndefinedMetricWarning: Precision and F-score are ill-defined and being set to 0.0 in samples with no predicted labels. Use `zero_division` parameter to control this behavior.\n",
            "  _warn_prf(average, modifier, msg_start, len(result))\n"
          ],
          "name": "stderr"
        },
        {
          "output_type": "stream",
          "text": [
            "0.5155367231638418\n",
            "Clf:  LogisticRegression\n",
            "Hamming loss: 0.02899599811676083\n",
            "Hamming score: 0.6623176172540579\n",
            "---\n",
            "              precision    recall  f1-score   support\n",
            "\n",
            "           0       0.92      0.66      0.77       630\n",
            "           1       0.73      0.42      0.53       124\n",
            "           2       0.99      0.81      0.89       675\n",
            "           3       0.80      0.52      0.63      1162\n",
            "           4       0.92      0.73      0.81      1348\n",
            "           5       0.79      0.52      0.62       792\n",
            "           6       0.92      0.78      0.84      4659\n",
            "           7       0.89      0.61      0.73       724\n",
            "           8       0.76      0.48      0.59      1829\n",
            "           9       0.87      0.54      0.67       870\n",
            "          10       0.80      0.53      0.64       660\n",
            "          11       0.90      0.42      0.57       151\n",
            "          12       0.98      0.39      0.56       116\n",
            "          13       0.95      0.53      0.68       200\n",
            "          14       0.98      0.89      0.94      1497\n",
            "          15       0.98      0.42      0.59       112\n",
            "          16       0.92      0.65      0.76      1931\n",
            "          17       0.94      0.61      0.74      1409\n",
            "          18       0.99      0.41      0.58       244\n",
            "          19       0.92      0.72      0.81      1273\n",
            "          20       0.84      0.51      0.63       523\n",
            "          21       0.00      0.00      0.00        20\n",
            "          22       0.98      0.79      0.87       946\n",
            "          23       0.76      0.43      0.55      1311\n",
            "\n",
            "   micro avg       0.90      0.65      0.75     23206\n",
            "   macro avg       0.86      0.56      0.67     23206\n",
            "weighted avg       0.89      0.65      0.75     23206\n",
            " samples avg       0.77      0.70      0.71     23206\n",
            "\n"
          ],
          "name": "stdout"
        },
        {
          "output_type": "stream",
          "text": [
            "/usr/local/lib/python3.6/dist-packages/sklearn/metrics/_classification.py:1272: UndefinedMetricWarning: Precision and F-score are ill-defined and being set to 0.0 in labels with no predicted samples. Use `zero_division` parameter to control this behavior.\n",
            "  _warn_prf(average, modifier, msg_start, len(result))\n",
            "/usr/local/lib/python3.6/dist-packages/sklearn/metrics/_classification.py:1272: UndefinedMetricWarning: Precision and F-score are ill-defined and being set to 0.0 in samples with no predicted labels. Use `zero_division` parameter to control this behavior.\n",
            "  _warn_prf(average, modifier, msg_start, len(result))\n"
          ],
          "name": "stderr"
        },
        {
          "output_type": "stream",
          "text": [
            "0.09703389830508474\n",
            "Clf:  MultinomialNB\n",
            "Hamming loss: 0.06198799435028249\n",
            "Hamming score: 0.12882863617698587\n",
            "---\n",
            "              precision    recall  f1-score   support\n",
            "\n",
            "           0       0.00      0.00      0.00       630\n",
            "           1       0.00      0.00      0.00       124\n",
            "           2       0.92      0.11      0.19       675\n",
            "           3       0.53      0.02      0.03      1162\n",
            "           4       0.88      0.06      0.11      1348\n",
            "           5       0.33      0.01      0.01       792\n",
            "           6       0.94      0.39      0.55      4659\n",
            "           7       0.62      0.02      0.04       724\n",
            "           8       0.38      0.00      0.01      1829\n",
            "           9       0.12      0.00      0.00       870\n",
            "          10       0.11      0.00      0.00       660\n",
            "          11       0.00      0.00      0.00       151\n",
            "          12       0.56      0.04      0.08       116\n",
            "          13       0.00      0.00      0.00       200\n",
            "          14       0.92      0.07      0.13      1497\n",
            "          15       0.00      0.00      0.00       112\n",
            "          16       0.90      0.05      0.10      1931\n",
            "          17       0.95      0.09      0.17      1409\n",
            "          18       0.00      0.00      0.00       244\n",
            "          19       0.78      0.03      0.05      1273\n",
            "          20       0.44      0.01      0.02       523\n",
            "          21       0.00      0.00      0.00        20\n",
            "          22       0.80      0.04      0.08       946\n",
            "          23       0.45      0.01      0.01      1311\n",
            "\n",
            "   micro avg       0.89      0.10      0.19     23206\n",
            "   macro avg       0.44      0.04      0.07     23206\n",
            "weighted avg       0.67      0.10      0.16     23206\n",
            " samples avg       0.17      0.13      0.14     23206\n",
            "\n"
          ],
          "name": "stdout"
        },
        {
          "output_type": "stream",
          "text": [
            "/usr/local/lib/python3.6/dist-packages/sklearn/metrics/_classification.py:1272: UndefinedMetricWarning: Precision and F-score are ill-defined and being set to 0.0 in labels with no predicted samples. Use `zero_division` parameter to control this behavior.\n",
            "  _warn_prf(average, modifier, msg_start, len(result))\n",
            "/usr/local/lib/python3.6/dist-packages/sklearn/metrics/_classification.py:1272: UndefinedMetricWarning: Precision and F-score are ill-defined and being set to 0.0 in samples with no predicted labels. Use `zero_division` parameter to control this behavior.\n",
            "  _warn_prf(average, modifier, msg_start, len(result))\n"
          ],
          "name": "stderr"
        }
      ]
    },
    {
      "cell_type": "code",
      "metadata": {
        "id": "seRQ3AuZd3pl",
        "colab_type": "code",
        "outputId": "355b6e60-8dfb-4a3c-a248-850adf4e5ad8",
        "colab": {
          "base_uri": "https://localhost:8080/",
          "height": 151
        }
      },
      "source": [
        "y_pred[:4]"
      ],
      "execution_count": 105,
      "outputs": [
        {
          "output_type": "execute_result",
          "data": {
            "text/plain": [
              "array([[0, 0, 0, 0, 0, 0, 1, 0, 0, 0, 0, 0, 0, 0, 0, 0, 0, 0, 0, 0, 0, 0,\n",
              "        0, 0],\n",
              "       [0, 0, 0, 0, 0, 0, 0, 0, 0, 0, 0, 0, 0, 0, 0, 0, 0, 0, 0, 0, 0, 0,\n",
              "        0, 0],\n",
              "       [0, 0, 0, 0, 0, 0, 0, 0, 0, 0, 0, 0, 0, 0, 0, 0, 0, 0, 0, 0, 0, 0,\n",
              "        0, 0],\n",
              "       [0, 0, 0, 0, 0, 0, 1, 0, 0, 0, 0, 0, 0, 0, 0, 0, 0, 0, 0, 0, 0, 0,\n",
              "        0, 0]])"
            ]
          },
          "metadata": {
            "tags": []
          },
          "execution_count": 105
        }
      ]
    },
    {
      "cell_type": "code",
      "metadata": {
        "id": "OJXgFs27wjD2",
        "colab_type": "code",
        "colab": {}
      },
      "source": [
        "from keras import backend as K\n",
        "def f1(y_true, y_pred):\n",
        "    def recall(y_true, y_pred):\n",
        "        \"\"\"Recall metric.\n",
        "\n",
        "        Only computes a batch-wise average of recall.\n",
        "\n",
        "        Computes the recall, a metric for multi-label classification of\n",
        "        how many relevant items are selected.\n",
        "        \"\"\"\n",
        "        true_positives = K.sum(K.round(K.clip(y_true * y_pred, 0, 1)))\n",
        "        possible_positives = K.sum(K.round(K.clip(y_true, 0, 1)))\n",
        "        recall = true_positives / (possible_positives + K.epsilon())\n",
        "        return recall\n",
        "\n",
        "    def precision(y_true, y_pred):\n",
        "        \"\"\"Precision metric.\n",
        "\n",
        "        Only computes a batch-wise average of precision.\n",
        "\n",
        "        Computes the precision, a metric for multi-label classification of\n",
        "        how many selected items are relevant.\n",
        "        \"\"\"\n",
        "        true_positives = K.sum(K.round(K.clip(y_true * y_pred, 0, 1)))\n",
        "        predicted_positives = K.sum(K.round(K.clip(y_pred, 0, 1)))\n",
        "        precision = true_positives / (predicted_positives + K.epsilon())\n",
        "        return precision\n",
        "    precision = precision(y_true, y_pred)\n",
        "    recall = recall(y_true, y_pred)\n",
        "    return 2*((precision*recall)/(precision+recall+K.epsilon()))\n",
        "def recall(y_true, y_pred):\n",
        "        \"\"\"Recall metric.\n",
        "\n",
        "        Only computes a batch-wise average of recall.\n",
        "\n",
        "        Computes the recall, a metric for multi-label classification of\n",
        "        how many relevant items are selected.\n",
        "        \"\"\"\n",
        "        true_positives = K.sum(K.round(K.clip(y_true * y_pred, 0, 1)))\n",
        "        possible_positives = K.sum(K.round(K.clip(y_true, 0, 1)))\n",
        "        recall = true_positives / (possible_positives + K.epsilon())\n",
        "        return recall\n",
        "def precision(y_true, y_pred):\n",
        "        \"\"\"Precision metric.\n",
        "\n",
        "        Only computes a batch-wise average of precision.\n",
        "\n",
        "        Computes the precision, a metric for multi-label classification of\n",
        "        how many selected items are relevant.\n",
        "        \"\"\"\n",
        "        true_positives = K.sum(K.round(K.clip(y_true * y_pred, 0, 1)))\n",
        "        predicted_positives = K.sum(K.round(K.clip(y_pred, 0, 1)))\n",
        "        precision = true_positives / (predicted_positives + K.epsilon())\n",
        "        return precision\n",
        "def f1_loss(y_true, y_pred):\n",
        "    \n",
        "    tp = K.sum(K.cast(y_true*y_pred, 'float'), axis=0)\n",
        "    tn = K.sum(K.cast((1-y_true)*(1-y_pred), 'float'), axis=0)\n",
        "    fp = K.sum(K.cast((1-y_true)*y_pred, 'float'), axis=0)\n",
        "    fn = K.sum(K.cast(y_true*(1-y_pred), 'float'), axis=0)\n",
        "\n",
        "    p = tp / (tp + fp + K.epsilon())\n",
        "    r = tp / (tp + fn + K.epsilon())\n",
        "\n",
        "    f1 = 2*p*r / (p+r+K.epsilon())\n",
        "    f1 = tf.where(tf.is_nan(f1), tf.zeros_like(f1), f1)\n",
        "    return 1 - K.mean(f1)\n",
        "    "
      ],
      "execution_count": 0,
      "outputs": []
    },
    {
      "cell_type": "markdown",
      "metadata": {
        "id": "NPSzHk9fPu_F",
        "colab_type": "text"
      },
      "source": [
        "Logestic Regression "
      ]
    },
    {
      "cell_type": "markdown",
      "metadata": {
        "id": "b1MRBgbVuCv0",
        "colab_type": "text"
      },
      "source": [
        "Deep Learning Models "
      ]
    },
    {
      "cell_type": "code",
      "metadata": {
        "id": "mZc_OYi3lV4E",
        "colab_type": "code",
        "colab": {}
      },
      "source": [
        "from tensorflow import keras\n",
        "from keras import regularizers\n",
        "layers = keras.layers\n",
        "models = keras.models"
      ],
      "execution_count": 0,
      "outputs": []
    },
    {
      "cell_type": "markdown",
      "metadata": {
        "id": "R3DCH5h1Prax",
        "colab_type": "text"
      },
      "source": [
        "Model 1 Deep Learning "
      ]
    },
    {
      "cell_type": "code",
      "metadata": {
        "id": "tmGpcvoJlOgq",
        "colab_type": "code",
        "colab": {}
      },
      "source": [
        "class DataGenerator(keras.utils.Sequence):\n",
        "    'Generates data for Keras'\n",
        "    def __init__(self, list_IDs,train ,labels, batch_size=1024, shuffle=False):\n",
        "        'Initialization'\n",
        "        self.train=train\n",
        "        self.batch_size = batch_size\n",
        "        self.labels = labels\n",
        "        self.list_IDs = list_IDs\n",
        "        self.shuffle= shuffle\n",
        "        \n",
        "\n",
        "    def __len__(self):\n",
        "        'Denotes the number of batches per epoch'\n",
        "        return int(np.floor(len(self.list_IDs) / self.batch_size))\n",
        "\n",
        "    def __getitem__(self, index):\n",
        "        'Generate one batch of data'\n",
        "        # Generate indexes of the batch\n",
        "        indexes = self.list_IDs[index*self.batch_size:(index+1)*self.batch_size]\n",
        "\n",
        "        # Find list of IDs\n",
        "        list_IDs_temp = [self.list_IDs[k] for k in indexes]\n",
        "\n",
        "        # Generate data\n",
        "        X, y = self.__data_generation(list_IDs_temp)\n",
        "\n",
        "        return X, y\n",
        "\n",
        "    def on_epoch_end(self):\n",
        "        'Updates indexes after each epoch'\n",
        "        self.indexes = np.arange(len(self.list_IDs))\n",
        "        if self.shuffle == True:\n",
        "            np.random.shuffle(self.indexes)\n",
        "\n",
        "    def __data_generation(self, list_IDs_temp):\n",
        "      \n",
        "        batch_x = self.train[list_IDs_temp].todense()\n",
        "        batch_y = self.labels[list_IDs_temp]\n",
        "        y_sort= []\n",
        "        for i in range(num_classes) :\n",
        "          y_sort.append(batch_y[:,i])\n",
        "        return batch_x,y_sort\n"
      ],
      "execution_count": 0,
      "outputs": []
    },
    {
      "cell_type": "code",
      "metadata": {
        "id": "Jc4MQvFFlaQL",
        "colab_type": "code",
        "colab": {}
      },
      "source": [
        "trainIds= range(x_train.shape[0])\n",
        "testIds= range(x_test.shape[0])\n",
        "devIds=range(x_dev.shape[0])\n",
        "training_generator= DataGenerator(trainIds,x_train ,y_train, batch_size=64)\n",
        "dev_generator=DataGenerator(devIds,x_dev,y_dev,batch_size=32)\n",
        "test_generator = DataGenerator(testIds,x_test ,y_test, batch_size=32)"
      ],
      "execution_count": 0,
      "outputs": []
    },
    {
      "cell_type": "code",
      "metadata": {
        "id": "5Ky31_Pflcec",
        "colab_type": "code",
        "outputId": "0a8875cd-a7b9-470f-ebe8-f9ce92a95e0e",
        "colab": {
          "base_uri": "https://localhost:8080/",
          "height": 121
        }
      },
      "source": [
        "from tensorflow.keras.utils import plot_model\n",
        "from tensorflow.keras.models import Model\n",
        "from tensorflow.keras.layers import Input\n",
        "from tensorflow.keras.layers import Dense\n",
        "visible = Input(shape=(maxlen,))\n",
        "hidden= []\n",
        "hidden1 = Dense(32, activation='relu')(visible)\n",
        "output = []\n",
        "for i in range (num_classes):\n",
        "  hidden.append( Dense(8, activation='relu')(hidden1))\n",
        "for i in range (num_classes):\n",
        "  output.append(Dense(1, activation='sigmoid')(hidden[i]))\n",
        "model = Model(inputs=visible, outputs=output)\n",
        "model.compile(loss='binary_crossentropy',\n",
        "              optimizer='adam',\n",
        "              metrics=['accuracy',f1,precision,recall])\n",
        "model.fit_generator(training_generator,epochs=2,validation_data=dev_generator)\n"
      ],
      "execution_count": 112,
      "outputs": [
        {
          "output_type": "stream",
          "text": [
            "Epoch 1/2\n",
            "884/884 [==============================] - 68s 77ms/step - loss: 5.2724 - dense_131_loss: 0.1693 - dense_132_loss: 0.0901 - dense_133_loss: 0.1569 - dense_134_loss: 0.2881 - dense_135_loss: 0.2655 - dense_136_loss: 0.2540 - dense_137_loss: 0.4710 - dense_138_loss: 0.2049 - dense_139_loss: 0.4119 - dense_140_loss: 0.2455 - dense_141_loss: 0.1846 - dense_142_loss: 0.1485 - dense_143_loss: 0.1029 - dense_144_loss: 0.1155 - dense_145_loss: 0.2454 - dense_146_loss: 0.0764 - dense_147_loss: 0.4072 - dense_148_loss: 0.2888 - dense_149_loss: 0.1041 - dense_150_loss: 0.2685 - dense_151_loss: 0.1510 - dense_152_loss: 0.0719 - dense_153_loss: 0.2120 - dense_154_loss: 0.3386 - dense_131_accuracy: 0.9570 - dense_131_f1: 1.9673e-04 - dense_131_precision: 1.1908e-04 - dense_131_recall: 5.6561e-04 - dense_132_accuracy: 0.9902 - dense_132_f1: 7.5415e-05 - dense_132_precision: 3.9008e-05 - dense_132_recall: 0.0011 - dense_133_accuracy: 0.9631 - dense_133_f1: 0.2094 - dense_133_precision: 0.2937 - dense_133_recall: 0.1768 - dense_134_accuracy: 0.9111 - dense_134_f1: 0.1042 - dense_134_precision: 0.2120 - dense_134_recall: 0.0834 - dense_135_accuracy: 0.9216 - dense_135_f1: 0.2495 - dense_135_precision: 0.3871 - dense_135_recall: 0.2005 - dense_136_accuracy: 0.9387 - dense_136_f1: 4.4172e-04 - dense_136_precision: 4.1135e-04 - dense_136_recall: 9.4268e-04 - dense_137_accuracy: 0.7765 - dense_137_f1: 0.4362 - dense_137_precision: 0.6031 - dense_137_recall: 0.3748 - dense_138_accuracy: 0.9519 - dense_138_f1: 0.0664 - dense_138_precision: 0.1238 - dense_138_recall: 0.0500 - dense_139_accuracy: 0.8663 - dense_139_f1: 0.0038 - dense_139_precision: 0.0033 - dense_139_recall: 0.0086 - dense_140_accuracy: 0.9394 - dense_140_f1: 0.0629 - dense_140_precision: 0.1245 - dense_140_recall: 0.0478 - dense_141_accuracy: 0.9534 - dense_141_f1: 0.1033 - dense_141_precision: 0.1653 - dense_141_recall: 0.0844 - dense_142_accuracy: 0.9855 - dense_142_f1: 0.0010 - dense_142_precision: 6.5988e-04 - dense_142_recall: 0.0026 - dense_143_accuracy: 0.9903 - dense_143_f1: 0.0000e+00 - dense_143_precision: 0.0000e+00 - dense_143_recall: 0.0000e+00 - dense_144_accuracy: 0.9854 - dense_144_f1: 0.0000e+00 - dense_144_precision: 0.0000e+00 - dense_144_recall: 0.0000e+00 - dense_145_accuracy: 0.9233 - dense_145_f1: 0.3277 - dense_145_precision: 0.4600 - dense_145_recall: 0.2735 - dense_146_accuracy: 0.9926 - dense_146_f1: 0.0000e+00 - dense_146_precision: 0.0000e+00 - dense_146_recall: 0.0000e+00 - dense_147_accuracy: 0.8584 - dense_147_f1: 1.8344e-04 - dense_147_precision: 1.1312e-04 - dense_147_recall: 4.8481e-04 - dense_148_accuracy: 0.8964 - dense_148_f1: 6.2813e-04 - dense_148_precision: 7.3375e-04 - dense_148_recall: 0.0010 - dense_149_accuracy: 0.9832 - dense_149_f1: 0.0000e+00 - dense_149_precision: 0.0000e+00 - dense_149_recall: 0.0000e+00 - dense_150_accuracy: 0.9201 - dense_150_f1: 0.1690 - dense_150_precision: 0.2955 - dense_150_recall: 0.1303 - dense_151_accuracy: 0.9648 - dense_151_f1: 0.0653 - dense_151_precision: 0.0974 - dense_151_recall: 0.0546 - dense_152_accuracy: 0.9978 - dense_152_f1: 0.0000e+00 - dense_152_precision: 0.0000e+00 - dense_152_recall: 0.0000e+00 - dense_153_accuracy: 0.9452 - dense_153_f1: 0.2186 - dense_153_precision: 0.3231 - dense_153_recall: 0.1801 - dense_154_accuracy: 0.9060 - dense_154_f1: 2.3013e-04 - dense_154_precision: 1.4345e-04 - dense_154_recall: 7.3529e-04 - val_loss: 2.9551 - val_dense_131_loss: 0.0898 - val_dense_132_loss: 0.0303 - val_dense_133_loss: 0.0448 - val_dense_134_loss: 0.1637 - val_dense_135_loss: 0.1251 - val_dense_136_loss: 0.1761 - val_dense_137_loss: 0.2952 - val_dense_138_loss: 0.1134 - val_dense_139_loss: 0.3035 - val_dense_140_loss: 0.1250 - val_dense_141_loss: 0.0883 - val_dense_142_loss: 0.0481 - val_dense_143_loss: 0.0374 - val_dense_144_loss: 0.0579 - val_dense_145_loss: 0.0888 - val_dense_146_loss: 0.0338 - val_dense_147_loss: 0.2952 - val_dense_148_loss: 0.1822 - val_dense_149_loss: 0.0541 - val_dense_150_loss: 0.1422 - val_dense_151_loss: 0.0819 - val_dense_152_loss: 0.0110 - val_dense_153_loss: 0.0760 - val_dense_154_loss: 0.2914 - val_dense_131_accuracy: 0.9508 - val_dense_131_f1: 0.0000e+00 - val_dense_131_precision: 0.0000e+00 - val_dense_131_recall: 0.0000e+00 - val_dense_132_accuracy: 0.9917 - val_dense_132_f1: 0.0045 - val_dense_132_precision: 0.0045 - val_dense_132_recall: 0.0045 - val_dense_133_accuracy: 0.9873 - val_dense_133_f1: 0.5724 - val_dense_133_precision: 0.6308 - val_dense_133_recall: 0.5453 - val_dense_134_accuracy: 0.9378 - val_dense_134_f1: 0.3982 - val_dense_134_precision: 0.5713 - val_dense_134_recall: 0.3324 - val_dense_135_accuracy: 0.9549 - val_dense_135_f1: 0.6526 - val_dense_135_precision: 0.7814 - val_dense_135_recall: 0.6005 - val_dense_136_accuracy: 0.9446 - val_dense_136_f1: 0.0000e+00 - val_dense_136_precision: 0.0000e+00 - val_dense_136_recall: 0.0000e+00 - val_dense_137_accuracy: 0.8797 - val_dense_137_f1: 0.7910 - val_dense_137_precision: 0.8841 - val_dense_137_recall: 0.7297 - val_dense_138_accuracy: 0.9617 - val_dense_138_f1: 0.2807 - val_dense_138_precision: 0.3665 - val_dense_138_recall: 0.2443 - val_dense_139_accuracy: 0.8725 - val_dense_139_f1: 0.0078 - val_dense_139_precision: 0.0226 - val_dense_139_recall: 0.0048 - val_dense_140_accuracy: 0.9509 - val_dense_140_f1: 0.2892 - val_dense_140_precision: 0.4155 - val_dense_140_recall: 0.2430 - val_dense_141_accuracy: 0.9656 - val_dense_141_f1: 0.3480 - val_dense_141_precision: 0.4070 - val_dense_141_recall: 0.3341 - val_dense_142_accuracy: 0.9902 - val_dense_142_f1: 0.0000e+00 - val_dense_142_precision: 0.0000e+00 - val_dense_142_recall: 0.0000e+00 - val_dense_143_accuracy: 0.9919 - val_dense_143_f1: 0.0000e+00 - val_dense_143_precision: 0.0000e+00 - val_dense_143_recall: 0.0000e+00 - val_dense_144_accuracy: 0.9866 - val_dense_144_f1: 0.0000e+00 - val_dense_144_precision: 0.0000e+00 - val_dense_144_recall: 0.0000e+00 - val_dense_145_accuracy: 0.9757 - val_dense_145_f1: 0.8192 - val_dense_145_precision: 0.9066 - val_dense_145_recall: 0.7713 - val_dense_146_accuracy: 0.9926 - val_dense_146_f1: 0.0000e+00 - val_dense_146_precision: 0.0000e+00 - val_dense_146_recall: 0.0000e+00 - val_dense_147_accuracy: 0.8644 - val_dense_147_f1: 0.0000e+00 - val_dense_147_precision: 0.0000e+00 - val_dense_147_recall: 0.0000e+00 - val_dense_148_accuracy: 0.8959 - val_dense_148_f1: 0.0000e+00 - val_dense_148_precision: 0.0000e+00 - val_dense_148_recall: 0.0000e+00 - val_dense_149_accuracy: 0.9837 - val_dense_149_f1: 0.0075 - val_dense_149_precision: 0.0090 - val_dense_149_recall: 0.0068 - val_dense_150_accuracy: 0.9492 - val_dense_150_f1: 0.5205 - val_dense_150_precision: 0.7328 - val_dense_150_recall: 0.4377 - val_dense_151_accuracy: 0.9702 - val_dense_151_f1: 0.2305 - val_dense_151_precision: 0.2854 - val_dense_151_recall: 0.2163 - val_dense_152_accuracy: 0.9984 - val_dense_152_f1: 0.0000e+00 - val_dense_152_precision: 0.0000e+00 - val_dense_152_recall: 0.0000e+00 - val_dense_153_accuracy: 0.9774 - val_dense_153_f1: 0.6161 - val_dense_153_precision: 0.7187 - val_dense_153_recall: 0.5668 - val_dense_154_accuracy: 0.9044 - val_dense_154_f1: 0.0000e+00 - val_dense_154_precision: 0.0000e+00 - val_dense_154_recall: 0.0000e+00\n",
            "Epoch 2/2\n",
            "884/884 [==============================] - 64s 72ms/step - loss: 2.1953 - dense_131_loss: 0.0547 - dense_132_loss: 0.0211 - dense_133_loss: 0.0263 - dense_134_loss: 0.1352 - dense_135_loss: 0.0889 - dense_136_loss: 0.1335 - dense_137_loss: 0.2234 - dense_138_loss: 0.0721 - dense_139_loss: 0.2317 - dense_140_loss: 0.0898 - dense_141_loss: 0.0652 - dense_142_loss: 0.0461 - dense_143_loss: 0.0317 - dense_144_loss: 0.0455 - dense_145_loss: 0.0478 - dense_146_loss: 0.0268 - dense_147_loss: 0.2153 - dense_148_loss: 0.1429 - dense_149_loss: 0.0361 - dense_150_loss: 0.0968 - dense_151_loss: 0.0656 - dense_152_loss: 0.0088 - dense_153_loss: 0.0417 - dense_154_loss: 0.2484 - dense_131_accuracy: 0.9807 - dense_131_f1: 0.5956 - dense_131_precision: 0.7026 - dense_131_recall: 0.5497 - dense_132_accuracy: 0.9925 - dense_132_f1: 0.1138 - dense_132_precision: 0.1252 - dense_132_recall: 0.1112 - dense_133_accuracy: 0.9926 - dense_133_f1: 0.8405 - dense_133_precision: 0.9052 - dense_133_recall: 0.8096 - dense_134_accuracy: 0.9484 - dense_134_f1: 0.5952 - dense_134_precision: 0.7971 - dense_134_recall: 0.5142 - dense_135_accuracy: 0.9684 - dense_135_f1: 0.7957 - dense_135_precision: 0.9007 - dense_135_recall: 0.7436 - dense_136_accuracy: 0.9396 - dense_136_f1: 0.0068 - dense_136_precision: 0.0111 - dense_136_recall: 0.0051 - dense_137_accuracy: 0.9142 - dense_137_f1: 0.8597 - dense_137_precision: 0.9043 - dense_137_recall: 0.8256 - dense_138_accuracy: 0.9747 - dense_138_f1: 0.6095 - dense_138_precision: 0.7614 - dense_138_recall: 0.5497 - dense_139_accuracy: 0.9029 - dense_139_f1: 0.4410 - dense_139_precision: 0.6850 - dense_139_recall: 0.3583 - dense_140_accuracy: 0.9660 - dense_140_f1: 0.5973 - dense_140_precision: 0.7704 - dense_140_recall: 0.5288 - dense_141_accuracy: 0.9751 - dense_141_f1: 0.6437 - dense_141_precision: 0.7567 - dense_141_recall: 0.6067 - dense_142_accuracy: 0.9885 - dense_142_f1: 0.0000e+00 - dense_142_precision: 0.0000e+00 - dense_142_recall: 0.0000e+00 - dense_143_accuracy: 0.9919 - dense_143_f1: 0.0328 - dense_143_precision: 0.0385 - dense_143_recall: 0.0300 - dense_144_accuracy: 0.9854 - dense_144_f1: 0.0000e+00 - dense_144_precision: 0.0000e+00 - dense_144_recall: 0.0000e+00 - dense_145_accuracy: 0.9874 - dense_145_f1: 0.9263 - dense_145_precision: 0.9760 - dense_145_recall: 0.8937 - dense_146_accuracy: 0.9938 - dense_146_f1: 0.0379 - dense_146_precision: 0.0419 - dense_146_recall: 0.0360 - dense_147_accuracy: 0.9025 - dense_147_f1: 0.3988 - dense_147_precision: 0.5570 - dense_147_recall: 0.3270 - dense_148_accuracy: 0.9501 - dense_148_f1: 0.6505 - dense_148_precision: 0.8354 - dense_148_recall: 0.5600 - dense_149_accuracy: 0.9877 - dense_149_f1: 0.2023 - dense_149_precision: 0.2491 - dense_149_recall: 0.1820 - dense_150_accuracy: 0.9668 - dense_150_f1: 0.7653 - dense_150_precision: 0.8991 - dense_150_recall: 0.6971 - dense_151_accuracy: 0.9754 - dense_151_f1: 0.4616 - dense_151_precision: 0.5729 - dense_151_recall: 0.4328 - dense_152_accuracy: 0.9987 - dense_152_f1: 0.0000e+00 - dense_152_precision: 0.0000e+00 - dense_152_recall: 0.0000e+00 - dense_153_accuracy: 0.9880 - dense_153_f1: 0.8723 - dense_153_precision: 0.9516 - dense_153_recall: 0.8263 - dense_154_accuracy: 0.9070 - dense_154_f1: 0.0000e+00 - dense_154_precision: 0.0000e+00 - dense_154_recall: 0.0000e+00 - val_loss: 1.9735 - val_dense_131_loss: 0.0526 - val_dense_132_loss: 0.0188 - val_dense_133_loss: 0.0226 - val_dense_134_loss: 0.1260 - val_dense_135_loss: 0.0828 - val_dense_136_loss: 0.1009 - val_dense_137_loss: 0.2352 - val_dense_138_loss: 0.0618 - val_dense_139_loss: 0.2141 - val_dense_140_loss: 0.0884 - val_dense_141_loss: 0.0680 - val_dense_142_loss: 0.0359 - val_dense_143_loss: 0.0209 - val_dense_144_loss: 0.0337 - val_dense_145_loss: 0.0441 - val_dense_146_loss: 0.0224 - val_dense_147_loss: 0.1722 - val_dense_148_loss: 0.1400 - val_dense_149_loss: 0.0305 - val_dense_150_loss: 0.0796 - val_dense_151_loss: 0.0654 - val_dense_152_loss: 0.0103 - val_dense_153_loss: 0.0364 - val_dense_154_loss: 0.2110 - val_dense_131_accuracy: 0.9808 - val_dense_131_f1: 0.5643 - val_dense_131_precision: 0.6388 - val_dense_131_recall: 0.5350 - val_dense_132_accuracy: 0.9931 - val_dense_132_f1: 0.0814 - val_dense_132_precision: 0.0837 - val_dense_132_recall: 0.0814 - val_dense_133_accuracy: 0.9941 - val_dense_133_f1: 0.6817 - val_dense_133_precision: 0.7014 - val_dense_133_recall: 0.6781 - val_dense_134_accuracy: 0.9509 - val_dense_134_f1: 0.5675 - val_dense_134_precision: 0.6956 - val_dense_134_recall: 0.5262 - val_dense_135_accuracy: 0.9709 - val_dense_135_f1: 0.7752 - val_dense_135_precision: 0.8337 - val_dense_135_recall: 0.7542 - val_dense_136_accuracy: 0.9601 - val_dense_136_f1: 0.3766 - val_dense_136_precision: 0.4721 - val_dense_136_recall: 0.3386 - val_dense_137_accuracy: 0.9058 - val_dense_137_f1: 0.8441 - val_dense_137_precision: 0.8881 - val_dense_137_recall: 0.8173 - val_dense_138_accuracy: 0.9796 - val_dense_138_f1: 0.5794 - val_dense_138_precision: 0.6259 - val_dense_138_recall: 0.5706 - val_dense_139_accuracy: 0.9109 - val_dense_139_f1: 0.5565 - val_dense_139_precision: 0.6650 - val_dense_139_recall: 0.5387 - val_dense_140_accuracy: 0.9662 - val_dense_140_f1: 0.5082 - val_dense_140_precision: 0.6136 - val_dense_140_recall: 0.4686 - val_dense_141_accuracy: 0.9733 - val_dense_141_f1: 0.4676 - val_dense_141_precision: 0.5251 - val_dense_141_recall: 0.4566 - val_dense_142_accuracy: 0.9902 - val_dense_142_f1: 0.0000e+00 - val_dense_142_precision: 0.0000e+00 - val_dense_142_recall: 0.0000e+00 - val_dense_143_accuracy: 0.9939 - val_dense_143_f1: 0.0588 - val_dense_143_precision: 0.0633 - val_dense_143_recall: 0.0566 - val_dense_144_accuracy: 0.9866 - val_dense_144_f1: 0.0000e+00 - val_dense_144_precision: 0.0000e+00 - val_dense_144_recall: 0.0000e+00 - val_dense_145_accuracy: 0.9873 - val_dense_145_f1: 0.8868 - val_dense_145_precision: 0.9287 - val_dense_145_recall: 0.8648 - val_dense_146_accuracy: 0.9960 - val_dense_146_f1: 0.0926 - val_dense_146_precision: 0.0995 - val_dense_146_recall: 0.0890 - val_dense_147_accuracy: 0.9405 - val_dense_147_f1: 0.7069 - val_dense_147_precision: 0.8822 - val_dense_147_recall: 0.6211 - val_dense_148_accuracy: 0.9574 - val_dense_148_f1: 0.7099 - val_dense_148_precision: 0.8322 - val_dense_148_recall: 0.6584 - val_dense_149_accuracy: 0.9901 - val_dense_149_f1: 0.1885 - val_dense_149_precision: 0.1968 - val_dense_149_recall: 0.1863 - val_dense_150_accuracy: 0.9721 - val_dense_150_f1: 0.7446 - val_dense_150_precision: 0.8292 - val_dense_150_recall: 0.7120 - val_dense_151_accuracy: 0.9774 - val_dense_151_f1: 0.3398 - val_dense_151_precision: 0.4054 - val_dense_151_recall: 0.3192 - val_dense_152_accuracy: 0.9984 - val_dense_152_f1: 0.0000e+00 - val_dense_152_precision: 0.0000e+00 - val_dense_152_recall: 0.0000e+00 - val_dense_153_accuracy: 0.9911 - val_dense_153_f1: 0.7929 - val_dense_153_precision: 0.8284 - val_dense_153_recall: 0.7762 - val_dense_154_accuracy: 0.9044 - val_dense_154_f1: 0.0000e+00 - val_dense_154_precision: 0.0000e+00 - val_dense_154_recall: 0.0000e+00\n"
          ],
          "name": "stdout"
        },
        {
          "output_type": "execute_result",
          "data": {
            "text/plain": [
              "<tensorflow.python.keras.callbacks.History at 0x7fa3ada2a438>"
            ]
          },
          "metadata": {
            "tags": []
          },
          "execution_count": 112
        }
      ]
    },
    {
      "cell_type": "code",
      "metadata": {
        "id": "Q2RDyxyXpUyJ",
        "colab_type": "code",
        "outputId": "80c8f959-7787-41ec-cc26-ecffa03cb36d",
        "colab": {
          "base_uri": "https://localhost:8080/",
          "height": 54
        }
      },
      "source": [
        "score= model.evaluate(test_generator)"
      ],
      "execution_count": 113,
      "outputs": [
        {
          "output_type": "stream",
          "text": [
            "221/221 [==============================] - 9s 40ms/step - loss: 1.9305 - dense_131_loss: 0.0403 - dense_132_loss: 0.0190 - dense_133_loss: 0.0250 - dense_134_loss: 0.1311 - dense_135_loss: 0.0819 - dense_136_loss: 0.1059 - dense_137_loss: 0.2303 - dense_138_loss: 0.0585 - dense_139_loss: 0.2077 - dense_140_loss: 0.0846 - dense_141_loss: 0.0608 - dense_142_loss: 0.0407 - dense_143_loss: 0.0242 - dense_144_loss: 0.0295 - dense_145_loss: 0.0338 - dense_146_loss: 0.0242 - dense_147_loss: 0.1751 - dense_148_loss: 0.1251 - dense_149_loss: 0.0312 - dense_150_loss: 0.0932 - dense_151_loss: 0.0626 - dense_152_loss: 0.0084 - dense_153_loss: 0.0386 - dense_154_loss: 0.1989 - dense_131_accuracy: 0.9856 - dense_131_f1: 0.5070 - dense_131_precision: 0.5551 - dense_131_recall: 0.4904 - dense_132_accuracy: 0.9935 - dense_132_f1: 0.0986 - dense_132_precision: 0.0995 - dense_132_recall: 0.1003 - dense_133_accuracy: 0.9929 - dense_133_f1: 0.7454 - dense_133_precision: 0.7706 - dense_133_recall: 0.7371 - dense_134_accuracy: 0.9511 - dense_134_f1: 0.5702 - dense_134_precision: 0.6805 - dense_134_recall: 0.5386 - dense_135_accuracy: 0.9719 - dense_135_f1: 0.7656 - dense_135_precision: 0.8389 - dense_135_recall: 0.7338 - dense_136_accuracy: 0.9598 - dense_136_f1: 0.3985 - dense_136_precision: 0.4955 - dense_136_recall: 0.3699 - dense_137_accuracy: 0.9091 - dense_137_f1: 0.8440 - dense_137_precision: 0.9008 - dense_137_recall: 0.8065 - dense_138_accuracy: 0.9785 - dense_138_f1: 0.5678 - dense_138_precision: 0.6237 - dense_138_recall: 0.5489 - dense_139_accuracy: 0.9145 - dense_139_f1: 0.5830 - dense_139_precision: 0.7109 - dense_139_recall: 0.5330 - dense_140_accuracy: 0.9689 - dense_140_f1: 0.5133 - dense_140_precision: 0.6063 - dense_140_recall: 0.4744 - dense_141_accuracy: 0.9755 - dense_141_f1: 0.5121 - dense_141_precision: 0.5664 - dense_141_recall: 0.5053 - dense_142_accuracy: 0.9884 - dense_142_f1: 0.0000e+00 - dense_142_precision: 0.0000e+00 - dense_142_recall: 0.0000e+00 - dense_143_accuracy: 0.9934 - dense_143_f1: 0.0385 - dense_143_precision: 0.0452 - dense_143_recall: 0.0354 - dense_144_accuracy: 0.9853 - dense_144_f1: 0.0000e+00 - dense_144_precision: 0.0000e+00 - dense_144_recall: 0.0000e+00 - dense_145_accuracy: 0.9897 - dense_145_f1: 0.9219 - dense_145_precision: 0.9569 - dense_145_recall: 0.9048 - dense_146_accuracy: 0.9939 - dense_146_f1: 0.0732 - dense_146_precision: 0.0769 - dense_146_recall: 0.0716 - dense_147_accuracy: 0.9372 - dense_147_f1: 0.6931 - dense_147_precision: 0.8525 - dense_147_recall: 0.6221 - dense_148_accuracy: 0.9579 - dense_148_f1: 0.6848 - dense_148_precision: 0.8216 - dense_148_recall: 0.6340 - dense_149_accuracy: 0.9895 - dense_149_f1: 0.2050 - dense_149_precision: 0.2308 - dense_149_recall: 0.1946 - dense_150_accuracy: 0.9669 - dense_150_f1: 0.7073 - dense_150_precision: 0.7967 - dense_150_recall: 0.6717 - dense_151_accuracy: 0.9767 - dense_151_f1: 0.3992 - dense_151_precision: 0.4578 - dense_151_recall: 0.3836 - dense_152_accuracy: 0.9987 - dense_152_f1: 0.0000e+00 - dense_152_precision: 0.0000e+00 - dense_152_recall: 0.0000e+00 - dense_153_accuracy: 0.9893 - dense_153_f1: 0.7910 - dense_153_precision: 0.8294 - dense_153_recall: 0.7739 - dense_154_accuracy: 0.9104 - dense_154_f1: 0.0000e+00 - dense_154_precision: 0.0000e+00 - dense_154_recall: 0.0000e+00\n"
          ],
          "name": "stdout"
        }
      ]
    },
    {
      "cell_type": "code",
      "metadata": {
        "id": "E-196YDzYJDg",
        "colab_type": "code",
        "outputId": "b3bb3a02-2bef-4c54-bd29-c72315af29e7",
        "colab": {
          "base_uri": "https://localhost:8080/",
          "height": 54
        }
      },
      "source": [
        "print(score)"
      ],
      "execution_count": 114,
      "outputs": [
        {
          "output_type": "stream",
          "text": [
            "[1.9305211305618286, 0.040265388786792755, 0.018964659422636032, 0.024974964559078217, 0.13110116124153137, 0.08192496746778488, 0.10585438460111618, 0.23029863834381104, 0.058482930064201355, 0.20772342383861542, 0.08455976098775864, 0.06080305576324463, 0.04073014855384827, 0.024221982806921005, 0.02953781932592392, 0.0338016152381897, 0.024167880415916443, 0.17510482668876648, 0.1251244992017746, 0.031234029680490494, 0.09317145496606827, 0.06257335841655731, 0.008443489670753479, 0.03856383264064789, 0.19889308512210846, 0.9855769276618958, 0.506973922252655, 0.5550527572631836, 0.4904223084449768, 0.9934954643249512, 0.09864252060651779, 0.09954751282930374, 0.10030165314674377, 0.9929298758506775, 0.745449960231781, 0.7705882787704468, 0.737104058265686, 0.9510746598243713, 0.570194661617279, 0.6804674863815308, 0.5386393070220947, 0.9718608856201172, 0.7656056880950928, 0.8388710021972656, 0.7338074445724487, 0.9598416090011597, 0.39847004413604736, 0.4954751133918762, 0.36990949511528015, 0.909078061580658, 0.8440098762512207, 0.9007633328437805, 0.806504487991333, 0.9785068035125732, 0.5678337216377258, 0.6236802339553833, 0.5489333271980286, 0.9144513607025146, 0.5830360054969788, 0.7108811140060425, 0.5329777002334595, 0.9688913822174072, 0.5133088827133179, 0.6063348650932312, 0.4744342565536499, 0.9755373597145081, 0.512062668800354, 0.5663649439811707, 0.5052790641784668, 0.9884049892425537, 0.0, 0.0, 0.0, 0.993354082107544, 0.038461532443761826, 0.04524886608123779, 0.0354449488222599, 0.9852941036224365, 0.0, 0.0, 0.0, 0.9896776080131531, 0.9219277501106262, 0.956895112991333, 0.904805064201355, 0.9939196705818176, 0.0731523334980011, 0.07692306488752365, 0.07164403796195984, 0.9372171759605408, 0.6931312680244446, 0.852510392665863, 0.6221360564231873, 0.9578620195388794, 0.6848217248916626, 0.8216440677642822, 0.6339744329452515, 0.9895362257957458, 0.20497740805149078, 0.23076921701431274, 0.1945701241493225, 0.966911792755127, 0.7072682976722717, 0.7966818809509277, 0.6717230081558228, 0.9766685366630554, 0.39924582839012146, 0.4577677249908447, 0.3836349546909332, 0.9987273812294006, 0.0, 0.0, 0.0, 0.9892534017562866, 0.791040301322937, 0.8294118046760559, 0.7739388346672058, 0.9103506803512573, 0.0, 0.0, 0.0]\n"
          ],
          "name": "stdout"
        }
      ]
    },
    {
      "cell_type": "markdown",
      "metadata": {
        "id": "oZrJ7TQfSMqg",
        "colab_type": "text"
      },
      "source": [
        "Model 2 Deep Learning "
      ]
    },
    {
      "cell_type": "code",
      "metadata": {
        "id": "5zQUaNnRl77X",
        "colab_type": "code",
        "colab": {}
      },
      "source": [
        "class DataGenerator_2(keras.utils.Sequence):\n",
        "    'Generates data for Keras'\n",
        "    def __init__(self, list_IDs,train ,labels, batch_size=1024,shuffle=False):\n",
        "        'Initialization'\n",
        "        self.train=train\n",
        "        self.batch_size = batch_size\n",
        "        self.labels = labels\n",
        "        self.list_IDs = list_IDs\n",
        "        self.shuffle= shuffle\n",
        "\n",
        "    def __len__(self):\n",
        "        'Denotes the number of batches per epoch'\n",
        "        return int(np.floor(len(self.list_IDs) / self.batch_size))\n",
        "\n",
        "    def __getitem__(self, index):\n",
        "        'Generate one batch of data'\n",
        "        # Generate indexes of the batch\n",
        "        indexes = self.list_IDs[index*self.batch_size:(index+1)*self.batch_size]\n",
        "\n",
        "        # Find list of IDs\n",
        "        list_IDs_temp = [self.list_IDs[k] for k in indexes]\n",
        "\n",
        "        # Generate data\n",
        "        X, y = self.__data_generation(list_IDs_temp)\n",
        "\n",
        "        return X, y\n",
        "\n",
        "    def on_epoch_end(self):\n",
        "        'Updates indexes after each epoch'\n",
        "        self.indexes = np.arange(len(self.list_IDs))\n",
        "        if self.shuffle == True:\n",
        "            np.random.shuffle(self.indexes)\n",
        "\n",
        "    def __data_generation(self, list_IDs_temp):\n",
        "      \n",
        "        batch_x = self.train[list_IDs_temp].todense()\n",
        "        batch_y = self.labels[list_IDs_temp]\n",
        "        \n",
        "        return batch_x,batch_y"
      ],
      "execution_count": 0,
      "outputs": []
    },
    {
      "cell_type": "code",
      "metadata": {
        "id": "W2zVIGlQmGbk",
        "colab_type": "code",
        "colab": {}
      },
      "source": [
        "trainIds= range(x_train.shape[0])\n",
        "testIds= range(x_test_tfidf.shape[0])\n",
        "devIds=range(x_dev.shape[0])\n",
        "training_generator_2 = DataGenerator_2(trainIds,x_train ,y_train, batch_size=64)\n",
        "dev_generator_2=DataGenerator_2(devIds,x_dev,y_dev,batch_size=32)\n",
        "test_generator_2 = DataGenerator_2(testIds,x_test_tfidf ,y_test_tfidf, batch_size=32)"
      ],
      "execution_count": 0,
      "outputs": []
    },
    {
      "cell_type": "code",
      "metadata": {
        "id": "FbSOizMEmOXT",
        "colab_type": "code",
        "colab": {}
      },
      "source": [
        "from keras.metrics import top_k_categorical_accuracy\n",
        "from tensorflow.keras.losses import CosineSimilarity\n",
        "from tensorflow.keras.utils import plot_model\n",
        "from tensorflow.keras.models import Model\n",
        "from tensorflow.keras.layers import Input\n",
        "from tensorflow.keras.layers import Dense\n",
        "model2 = models.Sequential()\n",
        "model2.add(layers.Dense(64, input_dim=maxlen))\n",
        "model2.add(keras.layers.Dropout(0.1))\n",
        "model2.add(layers.Activation('relu'))\n",
        "model2.add(layers.Dense(num_classes))\n",
        "model2.add(layers.Activation('sigmoid'))\n",
        "model2.compile(loss= 'binary_crossentropy',\n",
        "              optimizer='Adam',\n",
        "              metrics=[f1,precision,recall])"
      ],
      "execution_count": 0,
      "outputs": []
    },
    {
      "cell_type": "code",
      "metadata": {
        "id": "t0S7wYWSmpBG",
        "colab_type": "code",
        "outputId": "202be9a5-5666-4f67-99c5-b2412d045ff6",
        "colab": {
          "base_uri": "https://localhost:8080/",
          "height": 390
        }
      },
      "source": [
        "model2.fit_generator(training_generator_2,epochs=10,validation_data=dev_generator_2)"
      ],
      "execution_count": 118,
      "outputs": [
        {
          "output_type": "stream",
          "text": [
            "Epoch 1/10\n",
            "884/884 [==============================] - 10s 11ms/step - loss: 0.2331 - f1: 0.1521 - precision: 0.6057 - recall: 0.0998 - val_loss: 0.1453 - val_f1: 0.3834 - val_precision: 0.9201 - val_recall: 0.2449\n",
            "Epoch 2/10\n",
            "884/884 [==============================] - 10s 11ms/step - loss: 0.1149 - f1: 0.5905 - precision: 0.8971 - recall: 0.4485 - val_loss: 0.0932 - val_f1: 0.6842 - val_precision: 0.8972 - val_recall: 0.5566\n",
            "Epoch 3/10\n",
            "884/884 [==============================] - 10s 11ms/step - loss: 0.0779 - f1: 0.7631 - precision: 0.8982 - recall: 0.6654 - val_loss: 0.0777 - val_f1: 0.7558 - val_precision: 0.8876 - val_recall: 0.6614\n",
            "Epoch 4/10\n",
            "884/884 [==============================] - 10s 11ms/step - loss: 0.0619 - f1: 0.8226 - precision: 0.9087 - recall: 0.7529 - val_loss: 0.0722 - val_f1: 0.7783 - val_precision: 0.8903 - val_recall: 0.6946\n",
            "Epoch 5/10\n",
            "884/884 [==============================] - 10s 11ms/step - loss: 0.0522 - f1: 0.8561 - precision: 0.9194 - recall: 0.8021 - val_loss: 0.0698 - val_f1: 0.7917 - val_precision: 0.8877 - val_recall: 0.7175\n",
            "Epoch 6/10\n",
            "884/884 [==============================] - 10s 11ms/step - loss: 0.0449 - f1: 0.8800 - precision: 0.9280 - recall: 0.8377 - val_loss: 0.0691 - val_f1: 0.7966 - val_precision: 0.8862 - val_recall: 0.7264\n",
            "Epoch 7/10\n",
            "884/884 [==============================] - 10s 11ms/step - loss: 0.0394 - f1: 0.8968 - precision: 0.9350 - recall: 0.8625 - val_loss: 0.0697 - val_f1: 0.7974 - val_precision: 0.8867 - val_recall: 0.7274\n",
            "Epoch 8/10\n",
            "884/884 [==============================] - 10s 11ms/step - loss: 0.0348 - f1: 0.9119 - precision: 0.9418 - recall: 0.8846 - val_loss: 0.0706 - val_f1: 0.7978 - val_precision: 0.8829 - val_recall: 0.7306\n",
            "Epoch 9/10\n",
            "884/884 [==============================] - 10s 11ms/step - loss: 0.0310 - f1: 0.9230 - precision: 0.9471 - recall: 0.9009 - val_loss: 0.0720 - val_f1: 0.7984 - val_precision: 0.8796 - val_recall: 0.7338\n",
            "Epoch 10/10\n",
            "884/884 [==============================] - 10s 11ms/step - loss: 0.0278 - f1: 0.9332 - precision: 0.9526 - recall: 0.9152 - val_loss: 0.0736 - val_f1: 0.7979 - val_precision: 0.8809 - val_recall: 0.7321\n"
          ],
          "name": "stdout"
        },
        {
          "output_type": "execute_result",
          "data": {
            "text/plain": [
              "<tensorflow.python.keras.callbacks.History at 0x7fa35b6dbe80>"
            ]
          },
          "metadata": {
            "tags": []
          },
          "execution_count": 118
        }
      ]
    },
    {
      "cell_type": "code",
      "metadata": {
        "id": "-cDzWMfobMfl",
        "colab_type": "code",
        "colab": {}
      },
      "source": [
        "model2.save(filepath=\"gdrive/My Drive/All reviews/ModelNoBugsFinal.h5\")"
      ],
      "execution_count": 0,
      "outputs": []
    },
    {
      "cell_type": "code",
      "metadata": {
        "id": "KVau9ncfsPTS",
        "colab_type": "code",
        "outputId": "14489000-9670-44f0-8c53-e34bcd09483e",
        "colab": {
          "base_uri": "https://localhost:8080/",
          "height": 34
        }
      },
      "source": [
        "score = model2.evaluate(test_generator_2)"
      ],
      "execution_count": 119,
      "outputs": [
        {
          "output_type": "stream",
          "text": [
            "442/442 [==============================] - 2s 4ms/step - loss: 0.0729 - f1: 0.7983 - precision: 0.8806 - recall: 0.7327\n"
          ],
          "name": "stdout"
        }
      ]
    },
    {
      "cell_type": "code",
      "metadata": {
        "id": "GrhYDUjDUYhn",
        "colab_type": "code",
        "outputId": "251fc7a9-c257-4a3d-f109-3b48f3f93c1a",
        "colab": {
          "base_uri": "https://localhost:8080/",
          "height": 34
        }
      },
      "source": [
        "transformer = TfidfTransformer()\n",
        "\n",
        "loaded_vec = CountVectorizer(decode_error=\"replace\",vocabulary=pickle.load(open(\"gdrive/My Drive/All reviews/feature.pkl\", \"rb\")))\n",
        "print(type(loaded_vec))\n",
        "tfidfReview = transformer.fit_transform(loaded_vec.fit_transform(np.array([\"Not working with Android Lollipop \"])))"
      ],
      "execution_count": 158,
      "outputs": [
        {
          "output_type": "stream",
          "text": [
            "<class 'sklearn.feature_extraction.text.CountVectorizer'>\n"
          ],
          "name": "stdout"
        }
      ]
    },
    {
      "cell_type": "code",
      "metadata": {
        "id": "3g1-liQokQrR",
        "colab_type": "code",
        "outputId": "c0891db9-d261-4e21-cb7f-0981b29c2a5b",
        "colab": {
          "base_uri": "https://localhost:8080/",
          "height": 134
        }
      },
      "source": [
        "print(multilabel_binarizer.classes_)"
      ],
      "execution_count": 159,
      "outputs": [
        {
          "output_type": "stream",
          "text": [
            "['Advertising' 'Battery' 'Camera & Photos' 'Complexity'\n",
            " 'Connectivity & HDMI' 'Customer Support' 'Design & UX' 'Devices'\n",
            " 'Feature Requests' 'Frequency' 'Gaming' 'Import Export'\n",
            " 'Internationalization' 'Location Services' 'Notifications & Alerts'\n",
            " 'Operating System' 'Performance' 'Pricing & Payment' 'Privacy'\n",
            " 'Security & Accounts' 'Sign Up & Login' 'Social & Collaboration'\n",
            " 'Streaming & Video & Audio' 'Update']\n"
          ],
          "name": "stdout"
        }
      ]
    },
    {
      "cell_type": "code",
      "metadata": {
        "id": "lkS02t0BYOXk",
        "colab_type": "code",
        "outputId": "b92a9767-122c-4b73-8e0a-c7bd40be4b74",
        "colab": {
          "base_uri": "https://localhost:8080/",
          "height": 34
        }
      },
      "source": [
        "mask = model2.predict(tfidfReview.toarray())>0.4\n",
        "print (multilabel_binarizer.classes_[mask[0]])\n"
      ],
      "execution_count": 161,
      "outputs": [
        {
          "output_type": "stream",
          "text": [
            "['Operating System']\n"
          ],
          "name": "stdout"
        }
      ]
    },
    {
      "cell_type": "code",
      "metadata": {
        "id": "jnq1DxHOiRr7",
        "colab_type": "code",
        "outputId": "6e09ae6e-c417-4768-af7d-d0a828e3213f",
        "colab": {
          "base_uri": "https://localhost:8080/",
          "height": 50
        }
      },
      "source": [
        "y_test_tfidf[6]"
      ],
      "execution_count": 148,
      "outputs": [
        {
          "output_type": "execute_result",
          "data": {
            "text/plain": [
              "array([0, 0, 0, 0, 0, 0, 0, 1, 1, 0, 0, 0, 0, 0, 0, 0, 0, 0, 0, 0, 0, 0,\n",
              "       0, 0])"
            ]
          },
          "metadata": {
            "tags": []
          },
          "execution_count": 148
        }
      ]
    },
    {
      "cell_type": "code",
      "metadata": {
        "id": "xAg-U2ukju3m",
        "colab_type": "code",
        "colab": {}
      },
      "source": [
        "y_pred_2=model2.predict(x_test_tfidf.toarray())"
      ],
      "execution_count": 0,
      "outputs": []
    },
    {
      "cell_type": "markdown",
      "metadata": {
        "id": "tceZM8MVq4nn",
        "colab_type": "text"
      },
      "source": [
        "A threshold study thanks "
      ]
    },
    {
      "cell_type": "code",
      "metadata": {
        "id": "SrlhG20PkAfC",
        "colab_type": "code",
        "colab": {}
      },
      "source": [
        "y_pred2=y_pred_2>0.4"
      ],
      "execution_count": 0,
      "outputs": []
    },
    {
      "cell_type": "code",
      "metadata": {
        "id": "D7LwwykVhbVO",
        "colab_type": "code",
        "outputId": "9d69cf59-68bb-4bea-f64f-e92fcbc96f3c",
        "colab": {
          "base_uri": "https://localhost:8080/",
          "height": 608
        }
      },
      "source": [
        "print(classification_report(y_test_tfidf,y_pred2))"
      ],
      "execution_count": 151,
      "outputs": [
        {
          "output_type": "stream",
          "text": [
            "              precision    recall  f1-score   support\n",
            "\n",
            "           0       0.91      0.78      0.84       630\n",
            "           1       0.77      0.66      0.71       124\n",
            "           2       0.98      0.90      0.94       675\n",
            "           3       0.79      0.73      0.76      1162\n",
            "           4       0.92      0.81      0.86      1348\n",
            "           5       0.77      0.67      0.72       792\n",
            "           6       0.87      0.84      0.86      4659\n",
            "           7       0.89      0.75      0.81       724\n",
            "           8       0.68      0.60      0.63      1829\n",
            "           9       0.82      0.67      0.74       870\n",
            "          10       0.79      0.69      0.74       660\n",
            "          11       0.85      0.66      0.74       151\n",
            "          12       0.99      0.74      0.85       116\n",
            "          13       0.95      0.74      0.83       200\n",
            "          14       0.98      0.94      0.96      1497\n",
            "          15       0.89      0.62      0.73       112\n",
            "          16       0.89      0.79      0.84      1931\n",
            "          17       0.90      0.72      0.80      1409\n",
            "          18       0.92      0.76      0.83       244\n",
            "          19       0.91      0.82      0.86      1273\n",
            "          20       0.79      0.64      0.71       523\n",
            "          21       1.00      0.35      0.52        20\n",
            "          22       0.97      0.90      0.93       946\n",
            "          23       0.71      0.56      0.62      1311\n",
            "\n",
            "   micro avg       0.86      0.77      0.81     23206\n",
            "   macro avg       0.87      0.72      0.79     23206\n",
            "weighted avg       0.86      0.77      0.81     23206\n",
            " samples avg       0.83      0.80      0.79     23206\n",
            "\n"
          ],
          "name": "stdout"
        },
        {
          "output_type": "stream",
          "text": [
            "/usr/local/lib/python3.6/dist-packages/sklearn/metrics/_classification.py:1272: UndefinedMetricWarning: Precision and F-score are ill-defined and being set to 0.0 in samples with no predicted labels. Use `zero_division` parameter to control this behavior.\n",
            "  _warn_prf(average, modifier, msg_start, len(result))\n"
          ],
          "name": "stderr"
        }
      ]
    },
    {
      "cell_type": "code",
      "metadata": {
        "id": "a3BaIEqgmV9B",
        "colab_type": "code",
        "outputId": "09da2ac2-94c3-49f0-919a-94e1d5bc20c5",
        "colab": {
          "base_uri": "https://localhost:8080/",
          "height": 34
        }
      },
      "source": [
        "print(hamming_score(y_test_tfidf,y_pred2))"
      ],
      "execution_count": 152,
      "outputs": [
        {
          "output_type": "stream",
          "text": [
            "0.7404123789346245\n"
          ],
          "name": "stdout"
        }
      ]
    },
    {
      "cell_type": "code",
      "metadata": {
        "id": "xOBA4-NDm9Vk",
        "colab_type": "code",
        "outputId": "3418f54e-f4b2-4879-83d8-e6f974376239",
        "colab": {
          "base_uri": "https://localhost:8080/",
          "height": 34
        }
      },
      "source": [
        "from sklearn.metrics import accuracy_score\n",
        "print(accuracy_score(y_test_tfidf,y_pred2))"
      ],
      "execution_count": 153,
      "outputs": [
        {
          "output_type": "stream",
          "text": [
            "0.5746468926553673\n"
          ],
          "name": "stdout"
        }
      ]
    },
    {
      "cell_type": "code",
      "metadata": {
        "id": "JLFJaoVopaB_",
        "colab_type": "code",
        "outputId": "a77b10d0-5d5f-44e1-812e-be6407fe1dd4",
        "colab": {
          "base_uri": "https://localhost:8080/",
          "height": 67
        }
      },
      "source": [
        "y_pred2[0]"
      ],
      "execution_count": 154,
      "outputs": [
        {
          "output_type": "execute_result",
          "data": {
            "text/plain": [
              "array([False, False, False, False, False, False,  True, False, False,\n",
              "       False, False, False, False, False, False, False, False, False,\n",
              "       False, False, False, False, False, False])"
            ]
          },
          "metadata": {
            "tags": []
          },
          "execution_count": 154
        }
      ]
    },
    {
      "cell_type": "code",
      "metadata": {
        "id": "aBFEvKzgvLIL",
        "colab_type": "code",
        "colab": {}
      },
      "source": [
        "metrics = precision_recall_fscore_support(y_true=y_test_tfidf,y_pred=y_pred2)"
      ],
      "execution_count": 0,
      "outputs": []
    },
    {
      "cell_type": "code",
      "metadata": {
        "id": "qPooMIUOvQFn",
        "colab_type": "code",
        "outputId": "ceeec130-064e-48a3-cd1d-4d650f2044d3",
        "colab": {
          "base_uri": "https://localhost:8080/",
          "height": 1000
        }
      },
      "source": [
        "import numpy as np\n",
        "import matplotlib.pyplot as plt\n",
        "fig1 = plt.figure(figsize=(60,20))\n",
        "fig2 = plt.figure(figsize=(60,20))\n",
        "fig3 = plt.figure(figsize=(60,20))\n",
        "(ax_precision) = fig1.subplots(ncols=1, nrows=1)\n",
        "( ax_f1) = fig2.subplots(ncols=1, nrows=1)\n",
        "(ax_recall) = fig3.subplots(ncols=1, nrows=1)\n",
        "g1 = sns.barplot(y=metrics[0], x=multilabel_binarizer.classes_, ax=ax_precision)\n",
        "g2 = sns.barplot(y=metrics[1], x=multilabel_binarizer.classes_, ax=ax_f1)\n",
        "g3 = sns.barplot(y=metrics[2], x=multilabel_binarizer.classes_, ax=ax_recall)\n",
        "for i in range(num_classes):\n",
        "    g1.text(i,metrics[0][i], round(metrics[0][i],2), color='black', ha=\"center\")\n",
        "    g2.text(i,metrics[1][i], round(metrics[1][i],2), color='black', ha=\"center\")\n",
        "    g3.text(i,metrics[2][i], round(metrics[2][i],2), color='black', ha=\"center\")\n",
        "fig1.savefig('gdrive/My Drive/All reviews/ax_precision_final.png')\n",
        "fig2.savefig('gdrive/My Drive/All reviews/ax_f1_final.png')\n",
        "fig3.savefig('gdrive/My Drive/All reviews/ax_recall_final.png')"
      ],
      "execution_count": 156,
      "outputs": [
        {
          "output_type": "display_data",
          "data": {
            "image/png": "[encoded data removed]",
            "text/plain": [
              "<Figure size 4320x1440 with 1 Axes>"
            ]
          },
          "metadata": {
            "tags": []
          }
        },
        {
          "output_type": "display_data",
          "data": {
            "image/png": "[encoded data removed]",
            "text/plain": [
              "<Figure size 4320x1440 with 1 Axes>"
            ]
          },
          "metadata": {
            "tags": []
          }
        },
        {
          "output_type": "display_data",
          "data": {
            "image/png": "[encoded data removed]",
            "text/plain": [
              "<Figure size 4320x1440 with 1 Axes>"
            ]
          },
          "metadata": {
            "tags": []
          }
        }
      ]
    },
    {
      "cell_type": "code",
      "metadata": {
        "id": "pvQY43k009O9",
        "colab_type": "code",
        "colab": {}
      },
      "source": [
        ""
      ],
      "execution_count": 0,
      "outputs": []
    }
  ]
}